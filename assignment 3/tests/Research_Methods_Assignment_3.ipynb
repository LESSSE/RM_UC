{
  "nbformat": 4,
  "nbformat_minor": 0,
  "metadata": {
    "colab": {
      "name": "Research Methods - Assignment 3.ipynb",
      "provenance": [],
      "collapsed_sections": [],
      "toc_visible": true
    },
    "kernelspec": {
      "display_name": "Python 3",
      "name": "python3"
    },
    "language_info": {
      "name": "python"
    }
  },
  "cells": [
    {
      "cell_type": "markdown",
      "metadata": {
        "id": "cEUFyWQ4c599"
      },
      "source": [
        "# Research Methods - Assignment 1\n",
        "\n",
        "- André Santos\n",
        "- Luís Espírito Santo\n",
        "- Miguel Guerreiro"
      ]
    },
    {
      "cell_type": "code",
      "metadata": {
        "id": "gWFFi-cnitJk",
        "colab": {
          "base_uri": "https://localhost:8080/"
        },
        "outputId": "0b4f7d11-c04f-433f-be91-4a98a46462f6"
      },
      "source": [
        "!pip -q install ipympl"
      ],
      "execution_count": null,
      "outputs": [
        {
          "output_type": "stream",
          "name": "stdout",
          "text": [
            "\u001b[?25l\r\u001b[K     |▋                               | 10 kB 15.0 MB/s eta 0:00:01\r\u001b[K     |█▎                              | 20 kB 18.9 MB/s eta 0:00:01\r\u001b[K     |██                              | 30 kB 18.1 MB/s eta 0:00:01\r\u001b[K     |██▋                             | 40 kB 11.5 MB/s eta 0:00:01\r\u001b[K     |███▎                            | 51 kB 6.2 MB/s eta 0:00:01\r\u001b[K     |███▉                            | 61 kB 5.5 MB/s eta 0:00:01\r\u001b[K     |████▌                           | 71 kB 5.8 MB/s eta 0:00:01\r\u001b[K     |█████▏                          | 81 kB 6.4 MB/s eta 0:00:01\r\u001b[K     |█████▉                          | 92 kB 3.8 MB/s eta 0:00:01\r\u001b[K     |██████▌                         | 102 kB 4.2 MB/s eta 0:00:01\r\u001b[K     |███████                         | 112 kB 4.2 MB/s eta 0:00:01\r\u001b[K     |███████▊                        | 122 kB 4.2 MB/s eta 0:00:01\r\u001b[K     |████████▍                       | 133 kB 4.2 MB/s eta 0:00:01\r\u001b[K     |█████████                       | 143 kB 4.2 MB/s eta 0:00:01\r\u001b[K     |█████████▊                      | 153 kB 4.2 MB/s eta 0:00:01\r\u001b[K     |██████████▎                     | 163 kB 4.2 MB/s eta 0:00:01\r\u001b[K     |███████████                     | 174 kB 4.2 MB/s eta 0:00:01\r\u001b[K     |███████████▋                    | 184 kB 4.2 MB/s eta 0:00:01\r\u001b[K     |████████████▎                   | 194 kB 4.2 MB/s eta 0:00:01\r\u001b[K     |█████████████                   | 204 kB 4.2 MB/s eta 0:00:01\r\u001b[K     |█████████████▌                  | 215 kB 4.2 MB/s eta 0:00:01\r\u001b[K     |██████████████▏                 | 225 kB 4.2 MB/s eta 0:00:01\r\u001b[K     |██████████████▉                 | 235 kB 4.2 MB/s eta 0:00:01\r\u001b[K     |███████████████▌                | 245 kB 4.2 MB/s eta 0:00:01\r\u001b[K     |████████████████▏               | 256 kB 4.2 MB/s eta 0:00:01\r\u001b[K     |████████████████▊               | 266 kB 4.2 MB/s eta 0:00:01\r\u001b[K     |█████████████████▍              | 276 kB 4.2 MB/s eta 0:00:01\r\u001b[K     |██████████████████              | 286 kB 4.2 MB/s eta 0:00:01\r\u001b[K     |██████████████████▊             | 296 kB 4.2 MB/s eta 0:00:01\r\u001b[K     |███████████████████▍            | 307 kB 4.2 MB/s eta 0:00:01\r\u001b[K     |████████████████████            | 317 kB 4.2 MB/s eta 0:00:01\r\u001b[K     |████████████████████▋           | 327 kB 4.2 MB/s eta 0:00:01\r\u001b[K     |█████████████████████▎          | 337 kB 4.2 MB/s eta 0:00:01\r\u001b[K     |██████████████████████          | 348 kB 4.2 MB/s eta 0:00:01\r\u001b[K     |██████████████████████▋         | 358 kB 4.2 MB/s eta 0:00:01\r\u001b[K     |███████████████████████▎        | 368 kB 4.2 MB/s eta 0:00:01\r\u001b[K     |███████████████████████▉        | 378 kB 4.2 MB/s eta 0:00:01\r\u001b[K     |████████████████████████▌       | 389 kB 4.2 MB/s eta 0:00:01\r\u001b[K     |█████████████████████████▏      | 399 kB 4.2 MB/s eta 0:00:01\r\u001b[K     |█████████████████████████▉      | 409 kB 4.2 MB/s eta 0:00:01\r\u001b[K     |██████████████████████████▌     | 419 kB 4.2 MB/s eta 0:00:01\r\u001b[K     |███████████████████████████     | 430 kB 4.2 MB/s eta 0:00:01\r\u001b[K     |███████████████████████████▊    | 440 kB 4.2 MB/s eta 0:00:01\r\u001b[K     |████████████████████████████▍   | 450 kB 4.2 MB/s eta 0:00:01\r\u001b[K     |█████████████████████████████   | 460 kB 4.2 MB/s eta 0:00:01\r\u001b[K     |█████████████████████████████▊  | 471 kB 4.2 MB/s eta 0:00:01\r\u001b[K     |██████████████████████████████▎ | 481 kB 4.2 MB/s eta 0:00:01\r\u001b[K     |███████████████████████████████ | 491 kB 4.2 MB/s eta 0:00:01\r\u001b[K     |███████████████████████████████▋| 501 kB 4.2 MB/s eta 0:00:01\r\u001b[K     |████████████████████████████████| 507 kB 4.2 MB/s \n",
            "\u001b[?25h"
          ]
        }
      ]
    },
    {
      "cell_type": "code",
      "metadata": {
        "id": "uiG_tswXm8sD"
      },
      "source": [
        "#%matplotlib widget\n",
        "%matplotlib inline\n",
        "import numpy as np\n",
        "import matplotlib.pyplot as plt\n",
        "import pandas as pd\n",
        "import seaborn as sns\n",
        "import ipywidgets as widgets\n",
        "import math\n",
        "\n",
        "from matplotlib.animation import FuncAnimation, PillowWriter \n",
        "from matplotlib import cm\n",
        "\n",
        "from mpl_toolkits import mplot3d\n",
        "from google.colab import output\n",
        "output.enable_custom_widget_manager()"
      ],
      "execution_count": null,
      "outputs": []
    },
    {
      "cell_type": "markdown",
      "metadata": {
        "id": "Thepm2qtc4Vl"
      },
      "source": [
        "## Read Data"
      ]
    },
    {
      "cell_type": "code",
      "metadata": {
        "colab": {
          "base_uri": "https://localhost:8080/",
          "height": 300
        },
        "id": "iCZhksEgnMNT",
        "outputId": "1d1e0bbc-be48-43ba-f418-615a3e16128d"
      },
      "source": [
        "def read_data(filename):\n",
        "  df = pd.read_csv(\"measurements_v2.csv\", index_col=0)\n",
        "  df.describe()\n",
        "  #Defining extra columns\n",
        "  df[\"code\"] = np.where(df[\"Time_code1\"].isnull(), \"Code2\", \"Code1\" )\n",
        "  df[\"time\"] = np.where(df[\"code\"] == \"Code1\", df[\"Time_code1\"], df[\"Time_code2\"])\n",
        "  df[\"time_log\"] = np.log(df[\"time\"])\n",
        "  df[\"edges\"] = df[\"Percentage\"]*(df[\"Exams\"]**2-df[\"Exams\"])//2\n",
        "  return df"
      ],
      "execution_count": null,
      "outputs": [
        {
          "output_type": "execute_result",
          "data": {
            "text/html": [
              "<div>\n",
              "<style scoped>\n",
              "    .dataframe tbody tr th:only-of-type {\n",
              "        vertical-align: middle;\n",
              "    }\n",
              "\n",
              "    .dataframe tbody tr th {\n",
              "        vertical-align: top;\n",
              "    }\n",
              "\n",
              "    .dataframe thead th {\n",
              "        text-align: right;\n",
              "    }\n",
              "</style>\n",
              "<table border=\"1\" class=\"dataframe\">\n",
              "  <thead>\n",
              "    <tr style=\"text-align: right;\">\n",
              "      <th></th>\n",
              "      <th>Exams</th>\n",
              "      <th>Percentage</th>\n",
              "      <th>Seed1</th>\n",
              "      <th>Seed2</th>\n",
              "      <th>Solution_code1</th>\n",
              "      <th>Time_code1</th>\n",
              "      <th>Solution_code2</th>\n",
              "      <th>Time_code2</th>\n",
              "    </tr>\n",
              "  </thead>\n",
              "  <tbody>\n",
              "    <tr>\n",
              "      <th>count</th>\n",
              "      <td>108640.000000</td>\n",
              "      <td>108640.000000</td>\n",
              "      <td>108640.000000</td>\n",
              "      <td>108640.000000</td>\n",
              "      <td>54320.000000</td>\n",
              "      <td>54320.000000</td>\n",
              "      <td>54320.000000</td>\n",
              "      <td>54320.000000</td>\n",
              "    </tr>\n",
              "    <tr>\n",
              "      <th>mean</th>\n",
              "      <td>11.971649</td>\n",
              "      <td>0.498079</td>\n",
              "      <td>1327.499816</td>\n",
              "      <td>31237.499926</td>\n",
              "      <td>4.397938</td>\n",
              "      <td>6.256752</td>\n",
              "      <td>4.428258</td>\n",
              "      <td>6.339705</td>\n",
              "    </tr>\n",
              "    <tr>\n",
              "      <th>std</th>\n",
              "      <td>4.306179</td>\n",
              "      <td>0.290566</td>\n",
              "      <td>1.707761</td>\n",
              "      <td>1.707847</td>\n",
              "      <td>2.511104</td>\n",
              "      <td>40.195182</td>\n",
              "      <td>2.469961</td>\n",
              "      <td>40.438020</td>\n",
              "    </tr>\n",
              "    <tr>\n",
              "      <th>min</th>\n",
              "      <td>5.000000</td>\n",
              "      <td>0.000000</td>\n",
              "      <td>1325.000000</td>\n",
              "      <td>31235.000000</td>\n",
              "      <td>-1.000000</td>\n",
              "      <td>0.000004</td>\n",
              "      <td>-1.000000</td>\n",
              "      <td>0.000003</td>\n",
              "    </tr>\n",
              "    <tr>\n",
              "      <th>25%</th>\n",
              "      <td>8.000000</td>\n",
              "      <td>0.250000</td>\n",
              "      <td>1326.000000</td>\n",
              "      <td>31236.000000</td>\n",
              "      <td>3.000000</td>\n",
              "      <td>0.000025</td>\n",
              "      <td>3.000000</td>\n",
              "      <td>0.000009</td>\n",
              "    </tr>\n",
              "    <tr>\n",
              "      <th>50%</th>\n",
              "      <td>12.000000</td>\n",
              "      <td>0.500000</td>\n",
              "      <td>1327.000000</td>\n",
              "      <td>31237.000000</td>\n",
              "      <td>4.000000</td>\n",
              "      <td>0.000090</td>\n",
              "      <td>4.000000</td>\n",
              "      <td>0.000042</td>\n",
              "    </tr>\n",
              "    <tr>\n",
              "      <th>75%</th>\n",
              "      <td>16.000000</td>\n",
              "      <td>0.750000</td>\n",
              "      <td>1329.000000</td>\n",
              "      <td>31239.000000</td>\n",
              "      <td>6.000000</td>\n",
              "      <td>0.001042</td>\n",
              "      <td>6.000000</td>\n",
              "      <td>0.001021</td>\n",
              "    </tr>\n",
              "    <tr>\n",
              "      <th>max</th>\n",
              "      <td>19.000000</td>\n",
              "      <td>1.000000</td>\n",
              "      <td>1330.000000</td>\n",
              "      <td>31240.000000</td>\n",
              "      <td>13.000000</td>\n",
              "      <td>300.000004</td>\n",
              "      <td>13.000000</td>\n",
              "      <td>300.000015</td>\n",
              "    </tr>\n",
              "  </tbody>\n",
              "</table>\n",
              "</div>"
            ],
            "text/plain": [
              "               Exams     Percentage  ...  Solution_code2    Time_code2\n",
              "count  108640.000000  108640.000000  ...    54320.000000  54320.000000\n",
              "mean       11.971649       0.498079  ...        4.428258      6.339705\n",
              "std         4.306179       0.290566  ...        2.469961     40.438020\n",
              "min         5.000000       0.000000  ...       -1.000000      0.000003\n",
              "25%         8.000000       0.250000  ...        3.000000      0.000009\n",
              "50%        12.000000       0.500000  ...        4.000000      0.000042\n",
              "75%        16.000000       0.750000  ...        6.000000      0.001021\n",
              "max        19.000000       1.000000  ...       13.000000    300.000015\n",
              "\n",
              "[8 rows x 8 columns]"
            ]
          },
          "metadata": {},
          "execution_count": 5
        }
      ]
    },
    {
      "cell_type": "markdown",
      "source": [
        "# Test Hipothesis"
      ],
      "metadata": {
        "id": "UDzPUfpByfyR"
      }
    },
    {
      "cell_type": "code",
      "source": [
        "!pip install --upgrade scipy\n",
        "import scipy.stats as stats\n",
        "import seaborn as sns"
      ],
      "metadata": {
        "colab": {
          "base_uri": "https://localhost:8080/",
          "height": 344
        },
        "id": "vuEgGVoUZrnH",
        "outputId": "510dcd7b-1215-4ba5-83e7-c2a5e748090e"
      },
      "execution_count": null,
      "outputs": [
        {
          "output_type": "stream",
          "name": "stdout",
          "text": [
            "Requirement already satisfied: scipy in /usr/local/lib/python3.7/dist-packages (1.4.1)\n",
            "Collecting scipy\n",
            "  Downloading scipy-1.7.3-cp37-cp37m-manylinux_2_12_x86_64.manylinux2010_x86_64.whl (38.1 MB)\n",
            "\u001b[K     |████████████████████████████████| 38.1 MB 1.2 MB/s \n",
            "\u001b[?25hRequirement already satisfied: numpy<1.23.0,>=1.16.5 in /usr/local/lib/python3.7/dist-packages (from scipy) (1.19.5)\n",
            "Installing collected packages: scipy\n",
            "  Attempting uninstall: scipy\n",
            "    Found existing installation: scipy 1.4.1\n",
            "    Uninstalling scipy-1.4.1:\n",
            "      Successfully uninstalled scipy-1.4.1\n",
            "\u001b[31mERROR: pip's dependency resolver does not currently take into account all the packages that are installed. This behaviour is the source of the following dependency conflicts.\n",
            "albumentations 0.1.12 requires imgaug<0.2.7,>=0.2.5, but you have imgaug 0.2.9 which is incompatible.\u001b[0m\n",
            "Successfully installed scipy-1.7.3\n"
          ]
        },
        {
          "output_type": "display_data",
          "data": {
            "application/vnd.colab-display-data+json": {
              "pip_warning": {
                "packages": [
                  "scipy"
                ]
              }
            }
          },
          "metadata": {}
        }
      ]
    },
    {
      "cell_type": "markdown",
      "source": [
        "## Hipothesis 1\n",
        "\n",
        "For $p=0.75$ and $n=15$, we achieve similar runtimes by either using Code 1 or Code 2. We use the following \n",
        "\n",
        "$$ H_0 : \\mu_{t_1} - \\mu_{t_2} = 0 $$\n",
        "$$ H_1 : \\mu_{t_1} - \\mu_{t_2} \\neq 0 $$"
      ],
      "metadata": {
        "id": "ylWLBiPdyvK6"
      }
    },
    {
      "cell_type": "markdown",
      "source": [
        "### Read Data"
      ],
      "metadata": {
        "id": "S9pg6zZMOc1D"
      }
    },
    {
      "cell_type": "code",
      "source": [
        "!gdown --id 14JNDxrBMdbWjGM4dbXUwnJY1zA9E2GSe"
      ],
      "metadata": {
        "id": "eb4OPzhaOcNx"
      },
      "execution_count": null,
      "outputs": []
    },
    {
      "cell_type": "code",
      "source": [
        "df = read_data(\"measurements_h1.csv\")"
      ],
      "metadata": {
        "id": "GkzT0fTFOgUy"
      },
      "execution_count": null,
      "outputs": []
    },
    {
      "cell_type": "markdown",
      "source": [
        "### Test"
      ],
      "metadata": {
        "id": "CzGU5uZ5OoJD"
      }
    },
    {
      "cell_type": "code",
      "source": [
        "m1_table = df.loc[df.loc[:, \"Exams\"] == 15]\n",
        "m1_table = m1_table.loc[df.loc[:, \"Percentage\"] == 0.75]"
      ],
      "metadata": {
        "id": "HBnksPlXyyfx",
        "colab": {
          "base_uri": "https://localhost:8080/"
        },
        "outputId": "2f6a80c6-7859-409d-c326-4f224df4ada5"
      },
      "execution_count": null,
      "outputs": [
        {
          "output_type": "execute_result",
          "data": {
            "text/plain": [
              "0.051410305555555556"
            ]
          },
          "metadata": {},
          "execution_count": 32
        }
      ]
    },
    {
      "cell_type": "code",
      "source": [
        "sample_code1 = m1_table.loc[np.logical_not(np.isnan(m1_table.loc[: ,\"Time_code1\"])),\"Time_code1\"].to_numpy()\n",
        "sample_code2 = m1_table.loc[np.logical_not(np.isnan(m1_table.loc[: ,\"Time_code2\"])),\"Time_code2\"].to_numpy()"
      ],
      "metadata": {
        "id": "kvO_CyZrhX3w"
      },
      "execution_count": null,
      "outputs": []
    },
    {
      "cell_type": "code",
      "source": [
        "sample_code1"
      ],
      "metadata": {
        "colab": {
          "base_uri": "https://localhost:8080/"
        },
        "id": "meP8ndOphjF1",
        "outputId": "3514dce1-7975-4271-e3fd-b4a41d774042"
      },
      "execution_count": null,
      "outputs": [
        {
          "output_type": "execute_result",
          "data": {
            "text/plain": [
              "array([1.01200e-03, 6.15000e-04, 8.70800e-03, 3.85400e-03, 3.98000e-04,\n",
              "       3.52000e-04, 6.17600e-03, 1.08410e-02, 2.14100e-03, 1.80130e-02,\n",
              "       1.32830e-02, 1.53300e-03, 1.80400e-03, 6.11900e-03, 2.23290e-02,\n",
              "       1.94500e-03, 3.21120e-02, 1.84200e-03, 4.00690e-01, 5.44270e-02,\n",
              "       4.36150e-02, 2.17832e-01, 2.02800e-02, 1.65267e-01, 5.87490e-02,\n",
              "       2.83820e-02, 2.43350e-02, 4.64723e-01, 2.70040e-02, 5.51610e-02,\n",
              "       7.81900e-03, 6.14800e-03, 1.28580e-02, 1.05790e-02, 3.28250e-02,\n",
              "       3.13700e-03])"
            ]
          },
          "metadata": {},
          "execution_count": 42
        }
      ]
    },
    {
      "cell_type": "code",
      "source": [
        "stats.ttest_ind(sample_code1, sample_code2)"
      ],
      "metadata": {
        "colab": {
          "base_uri": "https://localhost:8080/"
        },
        "id": "TUVCHDW6gpY1",
        "outputId": "67313c3c-8c9d-414e-88e6-4966d9dbf702"
      },
      "execution_count": null,
      "outputs": [
        {
          "output_type": "execute_result",
          "data": {
            "text/plain": [
              "Ttest_indResult(statistic=-0.09255004294088098, pvalue=0.9265254009326721)"
            ]
          },
          "metadata": {},
          "execution_count": 44
        }
      ]
    },
    {
      "cell_type": "markdown",
      "source": [
        "### Result"
      ],
      "metadata": {
        "id": "_UGt8mwjib9_"
      }
    },
    {
      "cell_type": "markdown",
      "source": [
        "## Hipothesis 2\n",
        "\n",
        "For the same problem generated with $p=0$, Code 1 will take consistently longer time to solve than Code 2. Let $t^{(1)}_1, t^{(2)}_1, t^{(3)}_1 \\ldots t^{(n)}_1$ be measurements for Code 1 and $t^{(1)}_2, t^{(2)}_2, t^{(3)}_2 \\ldots t^{(n)}_2$ measurements for Code 2. Let $d_k = t^{(k)}_1 - t^{(k)}_2$, \n",
        "\n",
        "$$ H_0 : \\mu_d \\leq 0 $$\n",
        "$$ H_1 : \\mu_d > 0 $$"
      ],
      "metadata": {
        "id": "gvaBUgNlyjHE"
      }
    },
    {
      "cell_type": "markdown",
      "source": [
        "### Read Data"
      ],
      "metadata": {
        "id": "p3o3gb0bO5rP"
      }
    },
    {
      "cell_type": "code",
      "source": [
        "!gdown --id 14JNDxrBMdbWjGM4dbXUwnJY1zA9E2GSe"
      ],
      "metadata": {
        "id": "-j_jB7aOO5rP"
      },
      "execution_count": null,
      "outputs": []
    },
    {
      "cell_type": "code",
      "source": [
        "df = read_data(\"measurements_h1.csv\")"
      ],
      "metadata": {
        "id": "QNxkS-xkO5rQ"
      },
      "execution_count": null,
      "outputs": []
    },
    {
      "cell_type": "markdown",
      "source": [
        "### Test"
      ],
      "metadata": {
        "id": "x4YmKJtXO5rQ"
      }
    },
    {
      "cell_type": "code",
      "metadata": {
        "id": "OFR8ZvO0HYkv"
      },
      "source": [
        "p_table = df.pivot_table(values=\"time\", index=[\"Exams\", \"Percentage\", \"Seed1\", \"Seed2\"], columns='code', aggfunc='first')"
      ],
      "execution_count": null,
      "outputs": []
    },
    {
      "cell_type": "code",
      "metadata": {
        "id": "Vf2zEr2VIjAx"
      },
      "source": [
        "p_table_a = p_table.loc[[tuple(row) for index, row in df.loc[:,[\"Exams\", \"Percentage\", \"Seed1\", \"Seed2\"]].iterrows()]].reset_index()"
      ],
      "execution_count": null,
      "outputs": []
    },
    {
      "cell_type": "code",
      "metadata": {
        "id": "_IUB1BexL_Ad"
      },
      "source": [
        "df.loc[:, \"time_difference\"] = (p_table_a['Code1'] - p_table_a['Code2'])"
      ],
      "execution_count": null,
      "outputs": []
    },
    {
      "cell_type": "code",
      "metadata": {
        "colab": {
          "base_uri": "https://localhost:8080/",
          "height": 424
        },
        "id": "TpYO-63SM2fH",
        "outputId": "e3a727fb-b49f-4d43-c565-fe0807136811"
      },
      "source": [
        "df"
      ],
      "execution_count": null,
      "outputs": [
        {
          "output_type": "execute_result",
          "data": {
            "text/html": [
              "<div>\n",
              "<style scoped>\n",
              "    .dataframe tbody tr th:only-of-type {\n",
              "        vertical-align: middle;\n",
              "    }\n",
              "\n",
              "    .dataframe tbody tr th {\n",
              "        vertical-align: top;\n",
              "    }\n",
              "\n",
              "    .dataframe thead th {\n",
              "        text-align: right;\n",
              "    }\n",
              "</style>\n",
              "<table border=\"1\" class=\"dataframe\">\n",
              "  <thead>\n",
              "    <tr style=\"text-align: right;\">\n",
              "      <th></th>\n",
              "      <th>Exams</th>\n",
              "      <th>Percentage</th>\n",
              "      <th>Seed1</th>\n",
              "      <th>Seed2</th>\n",
              "      <th>Solution_code1</th>\n",
              "      <th>Time_code1</th>\n",
              "      <th>Solution_code2</th>\n",
              "      <th>Time_code2</th>\n",
              "      <th>code</th>\n",
              "      <th>time</th>\n",
              "      <th>time_log</th>\n",
              "      <th>edges</th>\n",
              "      <th>time_difference</th>\n",
              "    </tr>\n",
              "  </thead>\n",
              "  <tbody>\n",
              "    <tr>\n",
              "      <th>0</th>\n",
              "      <td>5</td>\n",
              "      <td>0.00</td>\n",
              "      <td>1325</td>\n",
              "      <td>31235</td>\n",
              "      <td>1.0</td>\n",
              "      <td>0.000009</td>\n",
              "      <td>NaN</td>\n",
              "      <td>NaN</td>\n",
              "      <td>Code1</td>\n",
              "      <td>0.000009</td>\n",
              "      <td>-11.618286</td>\n",
              "      <td>0.0</td>\n",
              "      <td>0.000005</td>\n",
              "    </tr>\n",
              "    <tr>\n",
              "      <th>1</th>\n",
              "      <td>5</td>\n",
              "      <td>0.00</td>\n",
              "      <td>1325</td>\n",
              "      <td>31236</td>\n",
              "      <td>1.0</td>\n",
              "      <td>0.000009</td>\n",
              "      <td>NaN</td>\n",
              "      <td>NaN</td>\n",
              "      <td>Code1</td>\n",
              "      <td>0.000009</td>\n",
              "      <td>-11.618286</td>\n",
              "      <td>0.0</td>\n",
              "      <td>0.000005</td>\n",
              "    </tr>\n",
              "    <tr>\n",
              "      <th>2</th>\n",
              "      <td>5</td>\n",
              "      <td>0.00</td>\n",
              "      <td>1325</td>\n",
              "      <td>31237</td>\n",
              "      <td>1.0</td>\n",
              "      <td>0.000008</td>\n",
              "      <td>NaN</td>\n",
              "      <td>NaN</td>\n",
              "      <td>Code1</td>\n",
              "      <td>0.000008</td>\n",
              "      <td>-11.736069</td>\n",
              "      <td>0.0</td>\n",
              "      <td>0.000004</td>\n",
              "    </tr>\n",
              "    <tr>\n",
              "      <th>3</th>\n",
              "      <td>5</td>\n",
              "      <td>0.00</td>\n",
              "      <td>1325</td>\n",
              "      <td>31238</td>\n",
              "      <td>1.0</td>\n",
              "      <td>0.000008</td>\n",
              "      <td>NaN</td>\n",
              "      <td>NaN</td>\n",
              "      <td>Code1</td>\n",
              "      <td>0.000008</td>\n",
              "      <td>-11.736069</td>\n",
              "      <td>0.0</td>\n",
              "      <td>0.000005</td>\n",
              "    </tr>\n",
              "    <tr>\n",
              "      <th>4</th>\n",
              "      <td>5</td>\n",
              "      <td>0.00</td>\n",
              "      <td>1325</td>\n",
              "      <td>31239</td>\n",
              "      <td>1.0</td>\n",
              "      <td>0.000020</td>\n",
              "      <td>NaN</td>\n",
              "      <td>NaN</td>\n",
              "      <td>Code1</td>\n",
              "      <td>0.000020</td>\n",
              "      <td>-10.819778</td>\n",
              "      <td>0.0</td>\n",
              "      <td>0.000016</td>\n",
              "    </tr>\n",
              "    <tr>\n",
              "      <th>...</th>\n",
              "      <td>...</td>\n",
              "      <td>...</td>\n",
              "      <td>...</td>\n",
              "      <td>...</td>\n",
              "      <td>...</td>\n",
              "      <td>...</td>\n",
              "      <td>...</td>\n",
              "      <td>...</td>\n",
              "      <td>...</td>\n",
              "      <td>...</td>\n",
              "      <td>...</td>\n",
              "      <td>...</td>\n",
              "      <td>...</td>\n",
              "    </tr>\n",
              "    <tr>\n",
              "      <th>108635</th>\n",
              "      <td>19</td>\n",
              "      <td>0.94</td>\n",
              "      <td>1329</td>\n",
              "      <td>31238</td>\n",
              "      <td>NaN</td>\n",
              "      <td>NaN</td>\n",
              "      <td>-1.0</td>\n",
              "      <td>300.000001</td>\n",
              "      <td>Code2</td>\n",
              "      <td>300.000001</td>\n",
              "      <td>5.703782</td>\n",
              "      <td>160.0</td>\n",
              "      <td>0.000000</td>\n",
              "    </tr>\n",
              "    <tr>\n",
              "      <th>108636</th>\n",
              "      <td>19</td>\n",
              "      <td>0.94</td>\n",
              "      <td>1329</td>\n",
              "      <td>31239</td>\n",
              "      <td>NaN</td>\n",
              "      <td>NaN</td>\n",
              "      <td>-1.0</td>\n",
              "      <td>300.000001</td>\n",
              "      <td>Code2</td>\n",
              "      <td>300.000001</td>\n",
              "      <td>5.703782</td>\n",
              "      <td>160.0</td>\n",
              "      <td>0.000000</td>\n",
              "    </tr>\n",
              "    <tr>\n",
              "      <th>108637</th>\n",
              "      <td>19</td>\n",
              "      <td>0.94</td>\n",
              "      <td>1329</td>\n",
              "      <td>31240</td>\n",
              "      <td>NaN</td>\n",
              "      <td>NaN</td>\n",
              "      <td>-1.0</td>\n",
              "      <td>300.000001</td>\n",
              "      <td>Code2</td>\n",
              "      <td>300.000001</td>\n",
              "      <td>5.703782</td>\n",
              "      <td>160.0</td>\n",
              "      <td>0.000000</td>\n",
              "    </tr>\n",
              "    <tr>\n",
              "      <th>108638</th>\n",
              "      <td>19</td>\n",
              "      <td>0.94</td>\n",
              "      <td>1330</td>\n",
              "      <td>31235</td>\n",
              "      <td>NaN</td>\n",
              "      <td>NaN</td>\n",
              "      <td>-1.0</td>\n",
              "      <td>300.000001</td>\n",
              "      <td>Code2</td>\n",
              "      <td>300.000001</td>\n",
              "      <td>5.703782</td>\n",
              "      <td>160.0</td>\n",
              "      <td>0.000000</td>\n",
              "    </tr>\n",
              "    <tr>\n",
              "      <th>108639</th>\n",
              "      <td>19</td>\n",
              "      <td>0.94</td>\n",
              "      <td>1330</td>\n",
              "      <td>31236</td>\n",
              "      <td>NaN</td>\n",
              "      <td>NaN</td>\n",
              "      <td>-1.0</td>\n",
              "      <td>300.000001</td>\n",
              "      <td>Code2</td>\n",
              "      <td>300.000001</td>\n",
              "      <td>5.703782</td>\n",
              "      <td>160.0</td>\n",
              "      <td>0.000000</td>\n",
              "    </tr>\n",
              "  </tbody>\n",
              "</table>\n",
              "<p>108640 rows × 13 columns</p>\n",
              "</div>"
            ],
            "text/plain": [
              "        Exams  Percentage  Seed1  ...   time_log  edges  time_difference\n",
              "0           5        0.00   1325  ... -11.618286    0.0         0.000005\n",
              "1           5        0.00   1325  ... -11.618286    0.0         0.000005\n",
              "2           5        0.00   1325  ... -11.736069    0.0         0.000004\n",
              "3           5        0.00   1325  ... -11.736069    0.0         0.000005\n",
              "4           5        0.00   1325  ... -10.819778    0.0         0.000016\n",
              "...       ...         ...    ...  ...        ...    ...              ...\n",
              "108635     19        0.94   1329  ...   5.703782  160.0         0.000000\n",
              "108636     19        0.94   1329  ...   5.703782  160.0         0.000000\n",
              "108637     19        0.94   1329  ...   5.703782  160.0         0.000000\n",
              "108638     19        0.94   1330  ...   5.703782  160.0         0.000000\n",
              "108639     19        0.94   1330  ...   5.703782  160.0         0.000000\n",
              "\n",
              "[108640 rows x 13 columns]"
            ]
          },
          "metadata": {},
          "execution_count": 40
        }
      ]
    },
    {
      "cell_type": "code",
      "metadata": {
        "colab": {
          "base_uri": "https://localhost:8080/"
        },
        "id": "OT65SNcuLKJI",
        "outputId": "b8927ff8-b08b-48ea-9362-97807dbb6428"
      },
      "source": [
        "td = np.array(df[df[\"Percentage\"]==0][\"time_difference\"][:])\n",
        "\n",
        "stats.ttest_1samp(td, popmean=0, alternative=\"greater\")"
      ],
      "execution_count": null,
      "outputs": [
        {
          "output_type": "execute_result",
          "data": {
            "text/plain": [
              "Ttest_1sampResult(statistic=46.56943596281992, pvalue=9.78956140217115e-261)"
            ]
          },
          "metadata": {},
          "execution_count": 42
        }
      ]
    },
    {
      "cell_type": "markdown",
      "source": [
        "### Result\n",
        "- Em qualquer um dos niveis de significância $0.1$, $0.05$, $0.01$ podemos rejeitar a hipótese nula. O que reforça as nossas supspeitas de que o Code1 demora consistentemente mais que o Code2.\n"
      ],
      "metadata": {
        "id": "IIzx1jzf_FKS"
      }
    },
    {
      "cell_type": "code",
      "source": [
        "np.mean(df.loc[:, \"time_difference\"]), np.std(df.loc[:, \"time_difference\"])"
      ],
      "metadata": {
        "id": "xF0I22iN0qp7",
        "colab": {
          "base_uri": "https://localhost:8080/"
        },
        "outputId": "937c740e-0fc8-4f78-bc68-8c12ffb656f6"
      },
      "execution_count": null,
      "outputs": [
        {
          "output_type": "execute_result",
          "data": {
            "text/plain": [
              "(-0.08295296750736028, 0.8417792311392166)"
            ]
          },
          "metadata": {},
          "execution_count": 43
        }
      ]
    },
    {
      "cell_type": "markdown",
      "source": [
        "## Hipothesis 3\n",
        "\n",
        "The linear model we computed from previously collected data is a good model for predicting the runtime of Code 2 for $p=1$ and given $n$.   \n",
        "Our model is $y(n)=-21.89+1.92n$. Let $t^{(1)}_1, t^{(2)}_1, t^{(3)}_1 \\ldots t^{(m)}_1$ be measurements for Code 2 with $n^{(1)}, n^{(2)}, n^{(3)} \\ldots n^{(m)}$ exams. Let $e^k = t^k - y(n^k)$ be the model error, $e \\sim N (\\mu_e,\\sigma_e^2)$:\n",
        "\n",
        "$$ H_0 : \\mu_e = 0 $$\n",
        "$$ H_1 : \\mu_e \\neq 0 $$"
      ],
      "metadata": {
        "id": "aIOGt-4gyy8q"
      }
    },
    {
      "cell_type": "markdown",
      "source": [
        "### Read Data"
      ],
      "metadata": {
        "id": "qfu3m8pzO607"
      }
    },
    {
      "cell_type": "code",
      "source": [
        "!gdown --id 14JNDxrBMdbWjGM4dbXUwnJY1zA9E2GSe"
      ],
      "metadata": {
        "id": "FGzNMioaO608"
      },
      "execution_count": null,
      "outputs": []
    },
    {
      "cell_type": "code",
      "source": [
        "df = read_data(\"measurements_h3.csv\")"
      ],
      "metadata": {
        "id": "vMx5qvL2O608"
      },
      "execution_count": null,
      "outputs": []
    },
    {
      "cell_type": "markdown",
      "source": [
        "### Test"
      ],
      "metadata": {
        "id": "gAUs1-WGO609"
      }
    },
    {
      "cell_type": "code",
      "source": [
        "df"
      ],
      "metadata": {
        "id": "UJ3tg-8eyzsz",
        "colab": {
          "base_uri": "https://localhost:8080/",
          "height": 424
        },
        "outputId": "7f4f6f2a-97e0-48d8-f1a1-ed77c49703a4"
      },
      "execution_count": null,
      "outputs": [
        {
          "output_type": "execute_result",
          "data": {
            "text/html": [
              "<div>\n",
              "<style scoped>\n",
              "    .dataframe tbody tr th:only-of-type {\n",
              "        vertical-align: middle;\n",
              "    }\n",
              "\n",
              "    .dataframe tbody tr th {\n",
              "        vertical-align: top;\n",
              "    }\n",
              "\n",
              "    .dataframe thead th {\n",
              "        text-align: right;\n",
              "    }\n",
              "</style>\n",
              "<table border=\"1\" class=\"dataframe\">\n",
              "  <thead>\n",
              "    <tr style=\"text-align: right;\">\n",
              "      <th></th>\n",
              "      <th>Exams</th>\n",
              "      <th>Percentage</th>\n",
              "      <th>Seed1</th>\n",
              "      <th>Seed2</th>\n",
              "      <th>Solution_code1</th>\n",
              "      <th>Time_code1</th>\n",
              "      <th>Solution_code2</th>\n",
              "      <th>Time_code2</th>\n",
              "      <th>code</th>\n",
              "      <th>time</th>\n",
              "      <th>time_log</th>\n",
              "      <th>edges</th>\n",
              "    </tr>\n",
              "  </thead>\n",
              "  <tbody>\n",
              "    <tr>\n",
              "      <th>0</th>\n",
              "      <td>5</td>\n",
              "      <td>0.00</td>\n",
              "      <td>1325</td>\n",
              "      <td>31235</td>\n",
              "      <td>1.0</td>\n",
              "      <td>0.000009</td>\n",
              "      <td>NaN</td>\n",
              "      <td>NaN</td>\n",
              "      <td>Code1</td>\n",
              "      <td>0.000009</td>\n",
              "      <td>-11.618286</td>\n",
              "      <td>0.0</td>\n",
              "    </tr>\n",
              "    <tr>\n",
              "      <th>1</th>\n",
              "      <td>5</td>\n",
              "      <td>0.00</td>\n",
              "      <td>1325</td>\n",
              "      <td>31236</td>\n",
              "      <td>1.0</td>\n",
              "      <td>0.000009</td>\n",
              "      <td>NaN</td>\n",
              "      <td>NaN</td>\n",
              "      <td>Code1</td>\n",
              "      <td>0.000009</td>\n",
              "      <td>-11.618286</td>\n",
              "      <td>0.0</td>\n",
              "    </tr>\n",
              "    <tr>\n",
              "      <th>2</th>\n",
              "      <td>5</td>\n",
              "      <td>0.00</td>\n",
              "      <td>1325</td>\n",
              "      <td>31237</td>\n",
              "      <td>1.0</td>\n",
              "      <td>0.000008</td>\n",
              "      <td>NaN</td>\n",
              "      <td>NaN</td>\n",
              "      <td>Code1</td>\n",
              "      <td>0.000008</td>\n",
              "      <td>-11.736069</td>\n",
              "      <td>0.0</td>\n",
              "    </tr>\n",
              "    <tr>\n",
              "      <th>3</th>\n",
              "      <td>5</td>\n",
              "      <td>0.00</td>\n",
              "      <td>1325</td>\n",
              "      <td>31238</td>\n",
              "      <td>1.0</td>\n",
              "      <td>0.000008</td>\n",
              "      <td>NaN</td>\n",
              "      <td>NaN</td>\n",
              "      <td>Code1</td>\n",
              "      <td>0.000008</td>\n",
              "      <td>-11.736069</td>\n",
              "      <td>0.0</td>\n",
              "    </tr>\n",
              "    <tr>\n",
              "      <th>4</th>\n",
              "      <td>5</td>\n",
              "      <td>0.00</td>\n",
              "      <td>1325</td>\n",
              "      <td>31239</td>\n",
              "      <td>1.0</td>\n",
              "      <td>0.000020</td>\n",
              "      <td>NaN</td>\n",
              "      <td>NaN</td>\n",
              "      <td>Code1</td>\n",
              "      <td>0.000020</td>\n",
              "      <td>-10.819778</td>\n",
              "      <td>0.0</td>\n",
              "    </tr>\n",
              "    <tr>\n",
              "      <th>...</th>\n",
              "      <td>...</td>\n",
              "      <td>...</td>\n",
              "      <td>...</td>\n",
              "      <td>...</td>\n",
              "      <td>...</td>\n",
              "      <td>...</td>\n",
              "      <td>...</td>\n",
              "      <td>...</td>\n",
              "      <td>...</td>\n",
              "      <td>...</td>\n",
              "      <td>...</td>\n",
              "      <td>...</td>\n",
              "    </tr>\n",
              "    <tr>\n",
              "      <th>108635</th>\n",
              "      <td>19</td>\n",
              "      <td>0.94</td>\n",
              "      <td>1329</td>\n",
              "      <td>31238</td>\n",
              "      <td>NaN</td>\n",
              "      <td>NaN</td>\n",
              "      <td>-1.0</td>\n",
              "      <td>300.000001</td>\n",
              "      <td>Code2</td>\n",
              "      <td>300.000001</td>\n",
              "      <td>5.703782</td>\n",
              "      <td>160.0</td>\n",
              "    </tr>\n",
              "    <tr>\n",
              "      <th>108636</th>\n",
              "      <td>19</td>\n",
              "      <td>0.94</td>\n",
              "      <td>1329</td>\n",
              "      <td>31239</td>\n",
              "      <td>NaN</td>\n",
              "      <td>NaN</td>\n",
              "      <td>-1.0</td>\n",
              "      <td>300.000001</td>\n",
              "      <td>Code2</td>\n",
              "      <td>300.000001</td>\n",
              "      <td>5.703782</td>\n",
              "      <td>160.0</td>\n",
              "    </tr>\n",
              "    <tr>\n",
              "      <th>108637</th>\n",
              "      <td>19</td>\n",
              "      <td>0.94</td>\n",
              "      <td>1329</td>\n",
              "      <td>31240</td>\n",
              "      <td>NaN</td>\n",
              "      <td>NaN</td>\n",
              "      <td>-1.0</td>\n",
              "      <td>300.000001</td>\n",
              "      <td>Code2</td>\n",
              "      <td>300.000001</td>\n",
              "      <td>5.703782</td>\n",
              "      <td>160.0</td>\n",
              "    </tr>\n",
              "    <tr>\n",
              "      <th>108638</th>\n",
              "      <td>19</td>\n",
              "      <td>0.94</td>\n",
              "      <td>1330</td>\n",
              "      <td>31235</td>\n",
              "      <td>NaN</td>\n",
              "      <td>NaN</td>\n",
              "      <td>-1.0</td>\n",
              "      <td>300.000001</td>\n",
              "      <td>Code2</td>\n",
              "      <td>300.000001</td>\n",
              "      <td>5.703782</td>\n",
              "      <td>160.0</td>\n",
              "    </tr>\n",
              "    <tr>\n",
              "      <th>108639</th>\n",
              "      <td>19</td>\n",
              "      <td>0.94</td>\n",
              "      <td>1330</td>\n",
              "      <td>31236</td>\n",
              "      <td>NaN</td>\n",
              "      <td>NaN</td>\n",
              "      <td>-1.0</td>\n",
              "      <td>300.000001</td>\n",
              "      <td>Code2</td>\n",
              "      <td>300.000001</td>\n",
              "      <td>5.703782</td>\n",
              "      <td>160.0</td>\n",
              "    </tr>\n",
              "  </tbody>\n",
              "</table>\n",
              "<p>108640 rows × 12 columns</p>\n",
              "</div>"
            ],
            "text/plain": [
              "        Exams  Percentage  Seed1  Seed2  ...   code        time   time_log  edges\n",
              "0           5        0.00   1325  31235  ...  Code1    0.000009 -11.618286    0.0\n",
              "1           5        0.00   1325  31236  ...  Code1    0.000009 -11.618286    0.0\n",
              "2           5        0.00   1325  31237  ...  Code1    0.000008 -11.736069    0.0\n",
              "3           5        0.00   1325  31238  ...  Code1    0.000008 -11.736069    0.0\n",
              "4           5        0.00   1325  31239  ...  Code1    0.000020 -10.819778    0.0\n",
              "...       ...         ...    ...    ...  ...    ...         ...        ...    ...\n",
              "108635     19        0.94   1329  31238  ...  Code2  300.000001   5.703782  160.0\n",
              "108636     19        0.94   1329  31239  ...  Code2  300.000001   5.703782  160.0\n",
              "108637     19        0.94   1329  31240  ...  Code2  300.000001   5.703782  160.0\n",
              "108638     19        0.94   1330  31235  ...  Code2  300.000001   5.703782  160.0\n",
              "108639     19        0.94   1330  31236  ...  Code2  300.000001   5.703782  160.0\n",
              "\n",
              "[108640 rows x 12 columns]"
            ]
          },
          "metadata": {},
          "execution_count": 13
        }
      ]
    },
    {
      "cell_type": "code",
      "source": [
        "df.loc[:, \"y(n)\"] = (-21.898 + 1.92*df[\"Exams\"])\n",
        "df.loc[:, \"e\"] = df[\"time_log\"] - df[\"y(n)\"]"
      ],
      "metadata": {
        "id": "FxhOaWlGJvCF"
      },
      "execution_count": null,
      "outputs": []
    },
    {
      "cell_type": "code",
      "source": [
        "df.loc[(df[\"Percentage\"] == 1.00) & (df[\"code\"] == \"Code2\"), \"e\"]"
      ],
      "metadata": {
        "colab": {
          "base_uri": "https://localhost:8080/"
        },
        "id": "--SKqVcNNdXj",
        "outputId": "773c4a64-3282-4b17-ade0-e89116042f34"
      },
      "execution_count": null,
      "outputs": [
        {
          "output_type": "execute_result",
          "data": {
            "text/plain": [
              "57920     0.880385\n",
              "57921     0.967396\n",
              "57922     0.880385\n",
              "57923     0.880385\n",
              "57924     0.967396\n",
              "            ...   \n",
              "105219   -6.958218\n",
              "105220   -6.958218\n",
              "105221   -6.958218\n",
              "105222   -6.958218\n",
              "105223   -6.958218\n",
              "Name: e, Length: 504, dtype: float64"
            ]
          },
          "metadata": {},
          "execution_count": 15
        }
      ]
    },
    {
      "cell_type": "code",
      "source": [
        "en = df.loc[(df[\"Percentage\"] == 1.00) & (df[\"code\"] == \"Code2\") & (df[\"Exams\"] <= 14), [\"e\", \"Exams\"]]\n",
        "e = en[\"e\"]\n",
        "n = en[\"Exams\"]\n",
        "en"
      ],
      "metadata": {
        "colab": {
          "base_uri": "https://localhost:8080/"
        },
        "id": "tplkEmDRNg2J",
        "outputId": "2151d57d-186e-41a8-f62f-46c4bf3ccea6"
      },
      "execution_count": null,
      "outputs": [
        {
          "output_type": "execute_result",
          "data": {
            "text/plain": [
              "57920    0.880385\n",
              "57921    0.967396\n",
              "57922    0.880385\n",
              "57923    0.880385\n",
              "57924    0.967396\n",
              "           ...   \n",
              "90675    0.721782\n",
              "90676    0.721782\n",
              "90677    0.721782\n",
              "90678    0.721782\n",
              "90679    0.721782\n",
              "Name: e, Length: 360, dtype: float64"
            ]
          },
          "metadata": {},
          "execution_count": 16
        }
      ]
    },
    {
      "cell_type": "code",
      "source": [
        "plt.scatter(n, e)"
      ],
      "metadata": {
        "colab": {
          "base_uri": "https://localhost:8080/",
          "height": 284
        },
        "id": "DyQvgBPSQNdg",
        "outputId": "b93b0054-ce5f-4d35-ee89-27743f4d75af"
      },
      "execution_count": null,
      "outputs": [
        {
          "output_type": "execute_result",
          "data": {
            "text/plain": [
              "<matplotlib.collections.PathCollection at 0x7f8bb9d88210>"
            ]
          },
          "metadata": {},
          "execution_count": 17
        },
        {
          "output_type": "display_data",
          "data": {
            "image/png": "[encoded data removed]",
            "text/plain": [
              "<Figure size 432x288 with 1 Axes>"
            ]
          },
          "metadata": {
            "needs_background": "light"
          }
        }
      ]
    },
    {
      "cell_type": "code",
      "source": [
        "stats.ttest_1samp(e, popmean=0)"
      ],
      "metadata": {
        "colab": {
          "base_uri": "https://localhost:8080/"
        },
        "id": "whj_b--bPtVu",
        "outputId": "67efc058-49af-41f5-ff87-4fda2976cdb5"
      },
      "execution_count": null,
      "outputs": [
        {
          "output_type": "execute_result",
          "data": {
            "text/plain": [
              "Ttest_1sampResult(statistic=1.5043401935003853, pvalue=0.133373025381194)"
            ]
          },
          "metadata": {},
          "execution_count": 45
        }
      ]
    },
    {
      "cell_type": "markdown",
      "source": [
        "### Result\n",
        "\n",
        "Em qualquer um dos niveis de significância $0.1$, $0.05$, $0.01$ podemos rejeitar a hipótese nula. No entanto, se permitirmos um nível de significância de 0.15, isso já não se verifica e portanto, para este nível de significância, não podemos dizer que o nosso modelo linear não é um bom modelo para prever o tempo de execução para o Code2 para $p = 1.0$\n",
        "\n"
      ],
      "metadata": {
        "id": "0jm2MKLMS13E"
      }
    },
    {
      "cell_type": "code",
      "source": [
        ""
      ],
      "metadata": {
        "id": "ptLbdoDUOKpy"
      },
      "execution_count": null,
      "outputs": []
    }
  ]
}