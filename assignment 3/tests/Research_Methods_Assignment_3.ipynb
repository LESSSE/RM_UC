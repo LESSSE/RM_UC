{
  "nbformat": 4,
  "nbformat_minor": 0,
  "metadata": {
    "colab": {
      "name": "Research Methods - Assignment 3.ipynb",
      "provenance": [],
      "collapsed_sections": []
    },
    "kernelspec": {
      "display_name": "Python 3",
      "name": "python3"
    },
    "language_info": {
      "name": "python"
    }
  },
  "cells": [
    {
      "cell_type": "markdown",
      "metadata": {
        "id": "cEUFyWQ4c599"
      },
      "source": [
        "# Research Methods - Assignment 1\n",
        "\n",
        "- André Santos\n",
        "- Luís Espírito Santo\n",
        "- Miguel Guerreiro"
      ]
    },
    {
      "cell_type": "code",
      "metadata": {
        "id": "gWFFi-cnitJk"
      },
      "source": [
        "!pip -q install ipympl"
      ],
      "execution_count": null,
      "outputs": []
    },
    {
      "cell_type": "code",
      "metadata": {
        "id": "uiG_tswXm8sD"
      },
      "source": [
        "#%matplotlib widget\n",
        "%matplotlib inline\n",
        "import numpy as np\n",
        "import matplotlib.pyplot as plt\n",
        "import pandas as pd\n",
        "import seaborn as sns\n",
        "import ipywidgets as widgets\n",
        "import math\n",
        "\n",
        "from matplotlib.animation import FuncAnimation, PillowWriter \n",
        "from matplotlib import cm\n",
        "\n",
        "from mpl_toolkits import mplot3d\n",
        "from google.colab import output\n",
        "output.enable_custom_widget_manager()"
      ],
      "execution_count": null,
      "outputs": []
    },
    {
      "cell_type": "markdown",
      "metadata": {
        "id": "Thepm2qtc4Vl"
      },
      "source": [
        "## Read Data"
      ]
    },
    {
      "cell_type": "code",
      "metadata": {
        "id": "iCZhksEgnMNT"
      },
      "source": [
        "def read_data(filename):\n",
        "  df = pd.read_csv(filename, index_col=0)\n",
        "  df.describe()\n",
        "  #Defining extra columns\n",
        "  df[\"code\"] = np.nan\n",
        "  df[\"time\"] = np.nan\n",
        "  if \"Time_code1\" in df.columns:\n",
        "    df = df.loc[df[\"Time_code1\"] != 0]\n",
        "    df[\"code\"] = np.where(np.logical_not(df[\"Time_code1\"].isnull()), \"Code1\", df[\"code\"])\n",
        "    df[\"time\"] = np.where(df[\"code\"] == \"Code1\", df[\"Time_code1\"], df[\"time\"])\n",
        "  if \"Time_code2\" in df.columns:\n",
        "    df = df.loc[df[\"Time_code2\"] != 0]\n",
        "    df[\"code\"] = np.where(np.logical_not(df[\"Time_code2\"].isnull()),\"Code2\", df[\"code\"])\n",
        "    df[\"time\"] = np.where(df[\"code\"] == \"Code2\", df[\"Time_code2\"], df[\"time\"])\n",
        "  df[\"time_log\"] = np.log(df[\"time\"])\n",
        "  df[\"edges\"] = df[\"Percentage\"]*(df[\"Exams\"]**2-df[\"Exams\"])//2\n",
        "  return df"
      ],
      "execution_count": null,
      "outputs": []
    },
    {
      "cell_type": "markdown",
      "source": [
        "# Test Hipothesis"
      ],
      "metadata": {
        "id": "UDzPUfpByfyR"
      }
    },
    {
      "cell_type": "code",
      "source": [
        "!pip install --upgrade scipy\n",
        "import scipy.stats as stats\n",
        "import seaborn as sns"
      ],
      "metadata": {
        "colab": {
          "base_uri": "https://localhost:8080/"
        },
        "id": "vuEgGVoUZrnH",
        "outputId": "cc2a1d6d-6b82-451a-834e-d250f62bcebf"
      },
      "execution_count": null,
      "outputs": [
        {
          "output_type": "stream",
          "name": "stdout",
          "text": [
            "Requirement already satisfied: scipy in /usr/local/lib/python3.7/dist-packages (1.7.3)\n",
            "Requirement already satisfied: numpy<1.23.0,>=1.16.5 in /usr/local/lib/python3.7/dist-packages (from scipy) (1.19.5)\n"
          ]
        }
      ]
    },
    {
      "cell_type": "markdown",
      "source": [
        "## Hipothesis 1\n",
        "\n",
        "For $p=0.75$ and $n=15$, we achieve similar runtimes by either using Code 1 or Code 2. We use the following \n",
        "\n",
        "$$ H_0 : \\mu_{t_1} - \\mu_{t_2} = 0 $$\n",
        "$$ H_1 : \\mu_{t_1} - \\mu_{t_2} \\neq 0 $$"
      ],
      "metadata": {
        "id": "ylWLBiPdyvK6"
      }
    },
    {
      "cell_type": "markdown",
      "source": [
        "### Read Data"
      ],
      "metadata": {
        "id": "S9pg6zZMOc1D"
      }
    },
    {
      "cell_type": "code",
      "source": [
        "!gdown --id 1jqkHEkA_FlH7V_F12M9TAhc8uOGYpr3Q #data collected on Dec 21st"
      ],
      "metadata": {
        "id": "eb4OPzhaOcNx",
        "colab": {
          "base_uri": "https://localhost:8080/"
        },
        "outputId": "4aa7f8ad-34f1-48c8-b027-d8f0e810e995"
      },
      "execution_count": null,
      "outputs": [
        {
          "output_type": "stream",
          "name": "stdout",
          "text": [
            "Downloading...\n",
            "From: https://drive.google.com/uc?id=1jqkHEkA_FlH7V_F12M9TAhc8uOGYpr3Q\n",
            "To: /content/measurements_h1.csv\n",
            "\r  0% 0.00/76.8k [00:00<?, ?B/s]\r100% 76.8k/76.8k [00:00<00:00, 1.20MB/s]\n"
          ]
        }
      ]
    },
    {
      "cell_type": "code",
      "source": [
        "df = read_data(\"measurements_h1.csv\")\n",
        "df.describe()"
      ],
      "metadata": {
        "id": "GkzT0fTFOgUy",
        "colab": {
          "base_uri": "https://localhost:8080/",
          "height": 300
        },
        "outputId": "6f7390a4-bccd-44fe-f2b6-4feb9c7380c1"
      },
      "execution_count": null,
      "outputs": [
        {
          "output_type": "execute_result",
          "data": {
            "text/html": [
              "\n",
              "  <div id=\"df-c3a3f91d-0c19-4e81-8401-487826466610\">\n",
              "    <div class=\"colab-df-container\">\n",
              "      <div>\n",
              "<style scoped>\n",
              "    .dataframe tbody tr th:only-of-type {\n",
              "        vertical-align: middle;\n",
              "    }\n",
              "\n",
              "    .dataframe tbody tr th {\n",
              "        vertical-align: top;\n",
              "    }\n",
              "\n",
              "    .dataframe thead th {\n",
              "        text-align: right;\n",
              "    }\n",
              "</style>\n",
              "<table border=\"1\" class=\"dataframe\">\n",
              "  <thead>\n",
              "    <tr style=\"text-align: right;\">\n",
              "      <th></th>\n",
              "      <th>Exams</th>\n",
              "      <th>Percentage</th>\n",
              "      <th>Seed1</th>\n",
              "      <th>Seed2</th>\n",
              "      <th>Solution_code1</th>\n",
              "      <th>Time_code1</th>\n",
              "      <th>Solution_code2</th>\n",
              "      <th>Time_code2</th>\n",
              "      <th>time</th>\n",
              "      <th>time_log</th>\n",
              "      <th>edges</th>\n",
              "    </tr>\n",
              "  </thead>\n",
              "  <tbody>\n",
              "    <tr>\n",
              "      <th>count</th>\n",
              "      <td>2000.0</td>\n",
              "      <td>2000.00</td>\n",
              "      <td>2000.000000</td>\n",
              "      <td>2000.000000</td>\n",
              "      <td>1000.000000</td>\n",
              "      <td>1000.000000</td>\n",
              "      <td>1000.00000</td>\n",
              "      <td>1000.000000</td>\n",
              "      <td>2000.000000</td>\n",
              "      <td>2000.000000</td>\n",
              "      <td>2000.0</td>\n",
              "    </tr>\n",
              "    <tr>\n",
              "      <th>mean</th>\n",
              "      <td>15.0</td>\n",
              "      <td>0.75</td>\n",
              "      <td>1375.429000</td>\n",
              "      <td>31285.530500</td>\n",
              "      <td>7.291000</td>\n",
              "      <td>0.085331</td>\n",
              "      <td>7.24800</td>\n",
              "      <td>0.081078</td>\n",
              "      <td>0.083204</td>\n",
              "      <td>-4.618576</td>\n",
              "      <td>78.0</td>\n",
              "    </tr>\n",
              "    <tr>\n",
              "      <th>std</th>\n",
              "      <td>0.0</td>\n",
              "      <td>0.00</td>\n",
              "      <td>28.788528</td>\n",
              "      <td>28.720925</td>\n",
              "      <td>0.808067</td>\n",
              "      <td>0.465494</td>\n",
              "      <td>0.80071</td>\n",
              "      <td>0.342436</td>\n",
              "      <td>0.408527</td>\n",
              "      <td>1.860914</td>\n",
              "      <td>0.0</td>\n",
              "    </tr>\n",
              "    <tr>\n",
              "      <th>min</th>\n",
              "      <td>15.0</td>\n",
              "      <td>0.75</td>\n",
              "      <td>1326.000000</td>\n",
              "      <td>31236.000000</td>\n",
              "      <td>6.000000</td>\n",
              "      <td>0.000138</td>\n",
              "      <td>6.00000</td>\n",
              "      <td>0.000123</td>\n",
              "      <td>0.000123</td>\n",
              "      <td>-9.003326</td>\n",
              "      <td>78.0</td>\n",
              "    </tr>\n",
              "    <tr>\n",
              "      <th>25%</th>\n",
              "      <td>15.0</td>\n",
              "      <td>0.75</td>\n",
              "      <td>1351.000000</td>\n",
              "      <td>31260.750000</td>\n",
              "      <td>7.000000</td>\n",
              "      <td>0.002979</td>\n",
              "      <td>7.00000</td>\n",
              "      <td>0.002588</td>\n",
              "      <td>0.002744</td>\n",
              "      <td>-5.898157</td>\n",
              "      <td>78.0</td>\n",
              "    </tr>\n",
              "    <tr>\n",
              "      <th>50%</th>\n",
              "      <td>15.0</td>\n",
              "      <td>0.75</td>\n",
              "      <td>1375.000000</td>\n",
              "      <td>31286.000000</td>\n",
              "      <td>7.000000</td>\n",
              "      <td>0.008162</td>\n",
              "      <td>7.00000</td>\n",
              "      <td>0.007206</td>\n",
              "      <td>0.007546</td>\n",
              "      <td>-4.886738</td>\n",
              "      <td>78.0</td>\n",
              "    </tr>\n",
              "    <tr>\n",
              "      <th>75%</th>\n",
              "      <td>15.0</td>\n",
              "      <td>0.75</td>\n",
              "      <td>1400.000000</td>\n",
              "      <td>31310.000000</td>\n",
              "      <td>8.000000</td>\n",
              "      <td>0.036789</td>\n",
              "      <td>8.00000</td>\n",
              "      <td>0.027228</td>\n",
              "      <td>0.032216</td>\n",
              "      <td>-3.435292</td>\n",
              "      <td>78.0</td>\n",
              "    </tr>\n",
              "    <tr>\n",
              "      <th>max</th>\n",
              "      <td>15.0</td>\n",
              "      <td>0.75</td>\n",
              "      <td>1425.000000</td>\n",
              "      <td>31335.000000</td>\n",
              "      <td>10.000000</td>\n",
              "      <td>8.959786</td>\n",
              "      <td>10.00000</td>\n",
              "      <td>5.324744</td>\n",
              "      <td>8.959786</td>\n",
              "      <td>2.192746</td>\n",
              "      <td>78.0</td>\n",
              "    </tr>\n",
              "  </tbody>\n",
              "</table>\n",
              "</div>\n",
              "      <button class=\"colab-df-convert\" onclick=\"convertToInteractive('df-c3a3f91d-0c19-4e81-8401-487826466610')\"\n",
              "              title=\"Convert this dataframe to an interactive table.\"\n",
              "              style=\"display:none;\">\n",
              "        \n",
              "  <svg xmlns=\"http://www.w3.org/2000/svg\" height=\"24px\"viewBox=\"0 0 24 24\"\n",
              "       width=\"24px\">\n",
              "    <path d=\"M0 0h24v24H0V0z\" fill=\"none\"/>\n",
              "    <path d=\"M18.56 5.44l.94 2.06.94-2.06 2.06-.94-2.06-.94-.94-2.06-.94 2.06-2.06.94zm-11 1L8.5 8.5l.94-2.06 2.06-.94-2.06-.94L8.5 2.5l-.94 2.06-2.06.94zm10 10l.94 2.06.94-2.06 2.06-.94-2.06-.94-.94-2.06-.94 2.06-2.06.94z\"/><path d=\"M17.41 7.96l-1.37-1.37c-.4-.4-.92-.59-1.43-.59-.52 0-1.04.2-1.43.59L10.3 9.45l-7.72 7.72c-.78.78-.78 2.05 0 2.83L4 21.41c.39.39.9.59 1.41.59.51 0 1.02-.2 1.41-.59l7.78-7.78 2.81-2.81c.8-.78.8-2.07 0-2.86zM5.41 20L4 18.59l7.72-7.72 1.47 1.35L5.41 20z\"/>\n",
              "  </svg>\n",
              "      </button>\n",
              "      \n",
              "  <style>\n",
              "    .colab-df-container {\n",
              "      display:flex;\n",
              "      flex-wrap:wrap;\n",
              "      gap: 12px;\n",
              "    }\n",
              "\n",
              "    .colab-df-convert {\n",
              "      background-color: #E8F0FE;\n",
              "      border: none;\n",
              "      border-radius: 50%;\n",
              "      cursor: pointer;\n",
              "      display: none;\n",
              "      fill: #1967D2;\n",
              "      height: 32px;\n",
              "      padding: 0 0 0 0;\n",
              "      width: 32px;\n",
              "    }\n",
              "\n",
              "    .colab-df-convert:hover {\n",
              "      background-color: #E2EBFA;\n",
              "      box-shadow: 0px 1px 2px rgba(60, 64, 67, 0.3), 0px 1px 3px 1px rgba(60, 64, 67, 0.15);\n",
              "      fill: #174EA6;\n",
              "    }\n",
              "\n",
              "    [theme=dark] .colab-df-convert {\n",
              "      background-color: #3B4455;\n",
              "      fill: #D2E3FC;\n",
              "    }\n",
              "\n",
              "    [theme=dark] .colab-df-convert:hover {\n",
              "      background-color: #434B5C;\n",
              "      box-shadow: 0px 1px 3px 1px rgba(0, 0, 0, 0.15);\n",
              "      filter: drop-shadow(0px 1px 2px rgba(0, 0, 0, 0.3));\n",
              "      fill: #FFFFFF;\n",
              "    }\n",
              "  </style>\n",
              "\n",
              "      <script>\n",
              "        const buttonEl =\n",
              "          document.querySelector('#df-c3a3f91d-0c19-4e81-8401-487826466610 button.colab-df-convert');\n",
              "        buttonEl.style.display =\n",
              "          google.colab.kernel.accessAllowed ? 'block' : 'none';\n",
              "\n",
              "        async function convertToInteractive(key) {\n",
              "          const element = document.querySelector('#df-c3a3f91d-0c19-4e81-8401-487826466610');\n",
              "          const dataTable =\n",
              "            await google.colab.kernel.invokeFunction('convertToInteractive',\n",
              "                                                     [key], {});\n",
              "          if (!dataTable) return;\n",
              "\n",
              "          const docLinkHtml = 'Like what you see? Visit the ' +\n",
              "            '<a target=\"_blank\" href=https://colab.research.google.com/notebooks/data_table.ipynb>data table notebook</a>'\n",
              "            + ' to learn more about interactive tables.';\n",
              "          element.innerHTML = '';\n",
              "          dataTable['output_type'] = 'display_data';\n",
              "          await google.colab.output.renderOutput(dataTable, element);\n",
              "          const docLink = document.createElement('div');\n",
              "          docLink.innerHTML = docLinkHtml;\n",
              "          element.appendChild(docLink);\n",
              "        }\n",
              "      </script>\n",
              "    </div>\n",
              "  </div>\n",
              "  "
            ],
            "text/plain": [
              "        Exams  Percentage        Seed1  ...         time     time_log   edges\n",
              "count  2000.0     2000.00  2000.000000  ...  2000.000000  2000.000000  2000.0\n",
              "mean     15.0        0.75  1375.429000  ...     0.083204    -4.618576    78.0\n",
              "std       0.0        0.00    28.788528  ...     0.408527     1.860914     0.0\n",
              "min      15.0        0.75  1326.000000  ...     0.000123    -9.003326    78.0\n",
              "25%      15.0        0.75  1351.000000  ...     0.002744    -5.898157    78.0\n",
              "50%      15.0        0.75  1375.000000  ...     0.007546    -4.886738    78.0\n",
              "75%      15.0        0.75  1400.000000  ...     0.032216    -3.435292    78.0\n",
              "max      15.0        0.75  1425.000000  ...     8.959786     2.192746    78.0\n",
              "\n",
              "[8 rows x 11 columns]"
            ]
          },
          "metadata": {},
          "execution_count": 74
        }
      ]
    },
    {
      "cell_type": "markdown",
      "source": [
        "### Test"
      ],
      "metadata": {
        "id": "CzGU5uZ5OoJD"
      }
    },
    {
      "cell_type": "code",
      "source": [
        "m1_table = df.loc[df.loc[:, \"Exams\"] == 15]\n",
        "m1_table = m1_table.loc[df.loc[:, \"Percentage\"] == 0.75]"
      ],
      "metadata": {
        "id": "HBnksPlXyyfx"
      },
      "execution_count": null,
      "outputs": []
    },
    {
      "cell_type": "code",
      "source": [
        "sample_code1 = m1_table.loc[np.logical_not(np.isnan(m1_table.loc[: ,\"Time_code1\"])),\"Time_code1\"].to_numpy()\n",
        "sample_code2 = m1_table.loc[np.logical_not(np.isnan(m1_table.loc[: ,\"Time_code2\"])),\"Time_code2\"].to_numpy()"
      ],
      "metadata": {
        "id": "kvO_CyZrhX3w"
      },
      "execution_count": null,
      "outputs": []
    },
    {
      "cell_type": "code",
      "source": [
        "stats.ttest_ind(sample_code1, sample_code2)"
      ],
      "metadata": {
        "colab": {
          "base_uri": "https://localhost:8080/"
        },
        "id": "TUVCHDW6gpY1",
        "outputId": "5ed28e7e-8c27-4b09-cf6c-54a61a804e70"
      },
      "execution_count": null,
      "outputs": [
        {
          "output_type": "execute_result",
          "data": {
            "text/plain": [
              "Ttest_indResult(statistic=0.2327378672909075, pvalue=0.8159888007076802)"
            ]
          },
          "metadata": {},
          "execution_count": 80
        }
      ]
    },
    {
      "cell_type": "markdown",
      "source": [
        "### Result: \n",
        "\n",
        "Considerando os níveis de significância $0.1 ,  0.05 ,  0.01$ não podemos rejeitar a hipótese nula. O que reforça a nossa hipótese de que o Code1 e o Code2 demoram em média o mesmo quando consideramos o caso de 15 exames com probabilidade de colisão de $p=0.75$."
      ],
      "metadata": {
        "id": "_UGt8mwjib9_"
      }
    },
    {
      "cell_type": "markdown",
      "source": [
        "## Hipothesis 2\n",
        "\n",
        "For the same problem generated with $p=0$, Code 1 will take consistently longer time to solve than Code 2. Let $t^{(1)}_1, t^{(2)}_1, t^{(3)}_1 \\ldots t^{(n)}_1$ be measurements for Code 1 and $t^{(1)}_2, t^{(2)}_2, t^{(3)}_2 \\ldots t^{(n)}_2$ measurements for Code 2. Let $d_k = t^{(k)}_1 - t^{(k)}_2$, \n",
        "\n",
        "$$ H_0 : \\mu_d \\leq 0 $$\n",
        "$$ H_1 : \\mu_d > 0 $$"
      ],
      "metadata": {
        "id": "gvaBUgNlyjHE"
      }
    },
    {
      "cell_type": "markdown",
      "source": [
        "### Read Data"
      ],
      "metadata": {
        "id": "p3o3gb0bO5rP"
      }
    },
    {
      "cell_type": "code",
      "source": [
        "!gdown --id 1TZuhE1S4cFpFbasZ4VVGQr--uWAdu98G #data collected on Dec 21st"
      ],
      "metadata": {
        "id": "-j_jB7aOO5rP",
        "colab": {
          "base_uri": "https://localhost:8080/"
        },
        "outputId": "63af07e1-547a-487f-aefa-6454c5a38f0c"
      },
      "execution_count": null,
      "outputs": [
        {
          "output_type": "stream",
          "name": "stdout",
          "text": [
            "Downloading...\n",
            "From: https://drive.google.com/uc?id=1TZuhE1S4cFpFbasZ4VVGQr--uWAdu98G\n",
            "To: /content/measurements_h2.csv\n",
            "\r  0% 0.00/73.2k [00:00<?, ?B/s]\r100% 73.2k/73.2k [00:00<00:00, 1.05MB/s]\n"
          ]
        }
      ]
    },
    {
      "cell_type": "code",
      "source": [
        "df = read_data(\"measurements_h2.csv\")"
      ],
      "metadata": {
        "id": "QNxkS-xkO5rQ"
      },
      "execution_count": null,
      "outputs": []
    },
    {
      "cell_type": "markdown",
      "source": [
        "### Test"
      ],
      "metadata": {
        "id": "x4YmKJtXO5rQ"
      }
    },
    {
      "cell_type": "code",
      "metadata": {
        "id": "OFR8ZvO0HYkv"
      },
      "source": [
        "p_table = df.pivot_table(values=\"time\", index=[\"Exams\", \"Percentage\", \"Seed1\"], columns='code', aggfunc='first').reset_index()"
      ],
      "execution_count": null,
      "outputs": []
    },
    {
      "cell_type": "code",
      "metadata": {
        "id": "_IUB1BexL_Ad"
      },
      "source": [
        "p_table.loc[:, \"time_difference\"] = (p_table_a['Code1'] - p_table_a['Code2'])"
      ],
      "execution_count": null,
      "outputs": []
    },
    {
      "cell_type": "code",
      "source": [
        "p_table"
      ],
      "metadata": {
        "colab": {
          "base_uri": "https://localhost:8080/",
          "height": 424
        },
        "id": "6QGZVzu1N8pf",
        "outputId": "9a779b11-0438-4ad2-fea7-5dd27ef7b9b2"
      },
      "execution_count": null,
      "outputs": [
        {
          "output_type": "execute_result",
          "data": {
            "text/html": [
              "\n",
              "  <div id=\"df-77285911-981e-46cc-9cdd-4b6dd9e1efd8\">\n",
              "    <div class=\"colab-df-container\">\n",
              "      <div>\n",
              "<style scoped>\n",
              "    .dataframe tbody tr th:only-of-type {\n",
              "        vertical-align: middle;\n",
              "    }\n",
              "\n",
              "    .dataframe tbody tr th {\n",
              "        vertical-align: top;\n",
              "    }\n",
              "\n",
              "    .dataframe thead th {\n",
              "        text-align: right;\n",
              "    }\n",
              "</style>\n",
              "<table border=\"1\" class=\"dataframe\">\n",
              "  <thead>\n",
              "    <tr style=\"text-align: right;\">\n",
              "      <th>code</th>\n",
              "      <th>Exams</th>\n",
              "      <th>Percentage</th>\n",
              "      <th>Seed1</th>\n",
              "      <th>Code1</th>\n",
              "      <th>Code2</th>\n",
              "      <th>time_difference</th>\n",
              "    </tr>\n",
              "  </thead>\n",
              "  <tbody>\n",
              "    <tr>\n",
              "      <th>0</th>\n",
              "      <td>2</td>\n",
              "      <td>0.0</td>\n",
              "      <td>1328</td>\n",
              "      <td>0.000003</td>\n",
              "      <td>0.000003</td>\n",
              "      <td>0.000000</td>\n",
              "    </tr>\n",
              "    <tr>\n",
              "      <th>1</th>\n",
              "      <td>2</td>\n",
              "      <td>0.0</td>\n",
              "      <td>1329</td>\n",
              "      <td>0.000003</td>\n",
              "      <td>0.000003</td>\n",
              "      <td>0.000000</td>\n",
              "    </tr>\n",
              "    <tr>\n",
              "      <th>2</th>\n",
              "      <td>2</td>\n",
              "      <td>0.0</td>\n",
              "      <td>1332</td>\n",
              "      <td>0.000003</td>\n",
              "      <td>0.000005</td>\n",
              "      <td>-0.000002</td>\n",
              "    </tr>\n",
              "    <tr>\n",
              "      <th>3</th>\n",
              "      <td>2</td>\n",
              "      <td>0.0</td>\n",
              "      <td>1337</td>\n",
              "      <td>0.000003</td>\n",
              "      <td>0.000003</td>\n",
              "      <td>0.000000</td>\n",
              "    </tr>\n",
              "    <tr>\n",
              "      <th>4</th>\n",
              "      <td>2</td>\n",
              "      <td>0.0</td>\n",
              "      <td>1339</td>\n",
              "      <td>0.000003</td>\n",
              "      <td>0.000003</td>\n",
              "      <td>0.000000</td>\n",
              "    </tr>\n",
              "    <tr>\n",
              "      <th>...</th>\n",
              "      <td>...</td>\n",
              "      <td>...</td>\n",
              "      <td>...</td>\n",
              "      <td>...</td>\n",
              "      <td>...</td>\n",
              "      <td>...</td>\n",
              "    </tr>\n",
              "    <tr>\n",
              "      <th>863</th>\n",
              "      <td>49</td>\n",
              "      <td>0.0</td>\n",
              "      <td>1394</td>\n",
              "      <td>0.000963</td>\n",
              "      <td>0.000862</td>\n",
              "      <td>0.000101</td>\n",
              "    </tr>\n",
              "    <tr>\n",
              "      <th>864</th>\n",
              "      <td>49</td>\n",
              "      <td>0.0</td>\n",
              "      <td>1396</td>\n",
              "      <td>0.000904</td>\n",
              "      <td>0.000903</td>\n",
              "      <td>0.000001</td>\n",
              "    </tr>\n",
              "    <tr>\n",
              "      <th>865</th>\n",
              "      <td>49</td>\n",
              "      <td>0.0</td>\n",
              "      <td>1399</td>\n",
              "      <td>0.000909</td>\n",
              "      <td>0.000892</td>\n",
              "      <td>0.000017</td>\n",
              "    </tr>\n",
              "    <tr>\n",
              "      <th>866</th>\n",
              "      <td>49</td>\n",
              "      <td>0.0</td>\n",
              "      <td>1402</td>\n",
              "      <td>0.000988</td>\n",
              "      <td>0.000892</td>\n",
              "      <td>0.000096</td>\n",
              "    </tr>\n",
              "    <tr>\n",
              "      <th>867</th>\n",
              "      <td>49</td>\n",
              "      <td>0.0</td>\n",
              "      <td>1424</td>\n",
              "      <td>0.000891</td>\n",
              "      <td>0.000915</td>\n",
              "      <td>-0.000024</td>\n",
              "    </tr>\n",
              "  </tbody>\n",
              "</table>\n",
              "<p>868 rows × 6 columns</p>\n",
              "</div>\n",
              "      <button class=\"colab-df-convert\" onclick=\"convertToInteractive('df-77285911-981e-46cc-9cdd-4b6dd9e1efd8')\"\n",
              "              title=\"Convert this dataframe to an interactive table.\"\n",
              "              style=\"display:none;\">\n",
              "        \n",
              "  <svg xmlns=\"http://www.w3.org/2000/svg\" height=\"24px\"viewBox=\"0 0 24 24\"\n",
              "       width=\"24px\">\n",
              "    <path d=\"M0 0h24v24H0V0z\" fill=\"none\"/>\n",
              "    <path d=\"M18.56 5.44l.94 2.06.94-2.06 2.06-.94-2.06-.94-.94-2.06-.94 2.06-2.06.94zm-11 1L8.5 8.5l.94-2.06 2.06-.94-2.06-.94L8.5 2.5l-.94 2.06-2.06.94zm10 10l.94 2.06.94-2.06 2.06-.94-2.06-.94-.94-2.06-.94 2.06-2.06.94z\"/><path d=\"M17.41 7.96l-1.37-1.37c-.4-.4-.92-.59-1.43-.59-.52 0-1.04.2-1.43.59L10.3 9.45l-7.72 7.72c-.78.78-.78 2.05 0 2.83L4 21.41c.39.39.9.59 1.41.59.51 0 1.02-.2 1.41-.59l7.78-7.78 2.81-2.81c.8-.78.8-2.07 0-2.86zM5.41 20L4 18.59l7.72-7.72 1.47 1.35L5.41 20z\"/>\n",
              "  </svg>\n",
              "      </button>\n",
              "      \n",
              "  <style>\n",
              "    .colab-df-container {\n",
              "      display:flex;\n",
              "      flex-wrap:wrap;\n",
              "      gap: 12px;\n",
              "    }\n",
              "\n",
              "    .colab-df-convert {\n",
              "      background-color: #E8F0FE;\n",
              "      border: none;\n",
              "      border-radius: 50%;\n",
              "      cursor: pointer;\n",
              "      display: none;\n",
              "      fill: #1967D2;\n",
              "      height: 32px;\n",
              "      padding: 0 0 0 0;\n",
              "      width: 32px;\n",
              "    }\n",
              "\n",
              "    .colab-df-convert:hover {\n",
              "      background-color: #E2EBFA;\n",
              "      box-shadow: 0px 1px 2px rgba(60, 64, 67, 0.3), 0px 1px 3px 1px rgba(60, 64, 67, 0.15);\n",
              "      fill: #174EA6;\n",
              "    }\n",
              "\n",
              "    [theme=dark] .colab-df-convert {\n",
              "      background-color: #3B4455;\n",
              "      fill: #D2E3FC;\n",
              "    }\n",
              "\n",
              "    [theme=dark] .colab-df-convert:hover {\n",
              "      background-color: #434B5C;\n",
              "      box-shadow: 0px 1px 3px 1px rgba(0, 0, 0, 0.15);\n",
              "      filter: drop-shadow(0px 1px 2px rgba(0, 0, 0, 0.3));\n",
              "      fill: #FFFFFF;\n",
              "    }\n",
              "  </style>\n",
              "\n",
              "      <script>\n",
              "        const buttonEl =\n",
              "          document.querySelector('#df-77285911-981e-46cc-9cdd-4b6dd9e1efd8 button.colab-df-convert');\n",
              "        buttonEl.style.display =\n",
              "          google.colab.kernel.accessAllowed ? 'block' : 'none';\n",
              "\n",
              "        async function convertToInteractive(key) {\n",
              "          const element = document.querySelector('#df-77285911-981e-46cc-9cdd-4b6dd9e1efd8');\n",
              "          const dataTable =\n",
              "            await google.colab.kernel.invokeFunction('convertToInteractive',\n",
              "                                                     [key], {});\n",
              "          if (!dataTable) return;\n",
              "\n",
              "          const docLinkHtml = 'Like what you see? Visit the ' +\n",
              "            '<a target=\"_blank\" href=https://colab.research.google.com/notebooks/data_table.ipynb>data table notebook</a>'\n",
              "            + ' to learn more about interactive tables.';\n",
              "          element.innerHTML = '';\n",
              "          dataTable['output_type'] = 'display_data';\n",
              "          await google.colab.output.renderOutput(dataTable, element);\n",
              "          const docLink = document.createElement('div');\n",
              "          docLink.innerHTML = docLinkHtml;\n",
              "          element.appendChild(docLink);\n",
              "        }\n",
              "      </script>\n",
              "    </div>\n",
              "  </div>\n",
              "  "
            ],
            "text/plain": [
              "code  Exams  Percentage  Seed1     Code1     Code2  time_difference\n",
              "0         2         0.0   1328  0.000003  0.000003         0.000000\n",
              "1         2         0.0   1329  0.000003  0.000003         0.000000\n",
              "2         2         0.0   1332  0.000003  0.000005        -0.000002\n",
              "3         2         0.0   1337  0.000003  0.000003         0.000000\n",
              "4         2         0.0   1339  0.000003  0.000003         0.000000\n",
              "..      ...         ...    ...       ...       ...              ...\n",
              "863      49         0.0   1394  0.000963  0.000862         0.000101\n",
              "864      49         0.0   1396  0.000904  0.000903         0.000001\n",
              "865      49         0.0   1399  0.000909  0.000892         0.000017\n",
              "866      49         0.0   1402  0.000988  0.000892         0.000096\n",
              "867      49         0.0   1424  0.000891  0.000915        -0.000024\n",
              "\n",
              "[868 rows x 6 columns]"
            ]
          },
          "metadata": {},
          "execution_count": 118
        }
      ]
    },
    {
      "cell_type": "code",
      "source": [
        "plt.hist(p_table.loc[:, \"time_difference\"], bins=100)"
      ],
      "metadata": {
        "colab": {
          "base_uri": "https://localhost:8080/",
          "height": 849
        },
        "id": "R5Asx3tGSYha",
        "outputId": "a470b0d6-8b6a-41ac-9ef7-de4a06ebb2f0"
      },
      "execution_count": null,
      "outputs": [
        {
          "output_type": "execute_result",
          "data": {
            "text/plain": [
              "(array([  1.,   0.,   0.,   0.,   0.,   0.,   0.,   0.,   0.,   0.,   0.,\n",
              "          0.,   0.,   0.,   0.,   0.,   0.,   0.,   0.,   0.,   0.,   0.,\n",
              "          0.,   0.,   0.,   1.,   1.,   0.,   0.,   0.,   0.,   0.,   0.,\n",
              "          1.,   0.,   2.,   1.,   0.,   4.,   1.,   3.,   0.,   2.,   8.,\n",
              "          8.,  23.,  14.,  19.,  27.,  30.,  60., 153., 294.,  48.,  47.,\n",
              "         23.,  13.,  18.,  14.,  12.,   6.,  15.,   2.,   4.,   3.,   1.,\n",
              "          1.,   1.,   0.,   1.,   2.,   0.,   1.,   0.,   1.,   0.,   0.,\n",
              "          0.,   0.,   0.,   0.,   0.,   0.,   0.,   0.,   0.,   0.,   1.,\n",
              "          0.,   0.,   0.,   0.,   0.,   0.,   0.,   0.,   0.,   0.,   0.,\n",
              "          1.]),\n",
              " array([-2.3900e-04, -2.3441e-04, -2.2982e-04, -2.2523e-04, -2.2064e-04,\n",
              "        -2.1605e-04, -2.1146e-04, -2.0687e-04, -2.0228e-04, -1.9769e-04,\n",
              "        -1.9310e-04, -1.8851e-04, -1.8392e-04, -1.7933e-04, -1.7474e-04,\n",
              "        -1.7015e-04, -1.6556e-04, -1.6097e-04, -1.5638e-04, -1.5179e-04,\n",
              "        -1.4720e-04, -1.4261e-04, -1.3802e-04, -1.3343e-04, -1.2884e-04,\n",
              "        -1.2425e-04, -1.1966e-04, -1.1507e-04, -1.1048e-04, -1.0589e-04,\n",
              "        -1.0130e-04, -9.6710e-05, -9.2120e-05, -8.7530e-05, -8.2940e-05,\n",
              "        -7.8350e-05, -7.3760e-05, -6.9170e-05, -6.4580e-05, -5.9990e-05,\n",
              "        -5.5400e-05, -5.0810e-05, -4.6220e-05, -4.1630e-05, -3.7040e-05,\n",
              "        -3.2450e-05, -2.7860e-05, -2.3270e-05, -1.8680e-05, -1.4090e-05,\n",
              "        -9.5000e-06, -4.9100e-06, -3.2000e-07,  4.2700e-06,  8.8600e-06,\n",
              "         1.3450e-05,  1.8040e-05,  2.2630e-05,  2.7220e-05,  3.1810e-05,\n",
              "         3.6400e-05,  4.0990e-05,  4.5580e-05,  5.0170e-05,  5.4760e-05,\n",
              "         5.9350e-05,  6.3940e-05,  6.8530e-05,  7.3120e-05,  7.7710e-05,\n",
              "         8.2300e-05,  8.6890e-05,  9.1480e-05,  9.6070e-05,  1.0066e-04,\n",
              "         1.0525e-04,  1.0984e-04,  1.1443e-04,  1.1902e-04,  1.2361e-04,\n",
              "         1.2820e-04,  1.3279e-04,  1.3738e-04,  1.4197e-04,  1.4656e-04,\n",
              "         1.5115e-04,  1.5574e-04,  1.6033e-04,  1.6492e-04,  1.6951e-04,\n",
              "         1.7410e-04,  1.7869e-04,  1.8328e-04,  1.8787e-04,  1.9246e-04,\n",
              "         1.9705e-04,  2.0164e-04,  2.0623e-04,  2.1082e-04,  2.1541e-04,\n",
              "         2.2000e-04]),\n",
              " <a list of 100 Patch objects>)"
            ]
          },
          "metadata": {},
          "execution_count": 122
        },
        {
          "output_type": "display_data",
          "data": {
            "image/png": "[encoded data removed]",
            "text/plain": [
              "<Figure size 432x288 with 1 Axes>"
            ]
          },
          "metadata": {
            "needs_background": "light"
          }
        }
      ]
    },
    {
      "cell_type": "code",
      "metadata": {
        "colab": {
          "base_uri": "https://localhost:8080/"
        },
        "id": "OT65SNcuLKJI",
        "outputId": "385a7b2d-28da-44b3-e615-ce4dbeb4dadd"
      },
      "source": [
        "td = np.array(p_table[\"time_difference\"])\n",
        "\n",
        "stats.ttest_1samp(td, popmean=0, alternative=\"greater\")"
      ],
      "execution_count": null,
      "outputs": [
        {
          "output_type": "execute_result",
          "data": {
            "text/plain": [
              "Ttest_1sampResult(statistic=0.8154865740159815, pvalue=0.20750890649674703)"
            ]
          },
          "metadata": {},
          "execution_count": 115
        }
      ]
    },
    {
      "cell_type": "markdown",
      "source": [
        "### Result\n",
        "- Em qualquer um dos niveis de significância $0.1$, $0.05$, $0.01$ podemos rejeitar a hipótese nula. O que reforça as nossas supspeitas de que o Code1 demora consistentemente mais que o Code2.\n"
      ],
      "metadata": {
        "id": "IIzx1jzf_FKS"
      }
    },
    {
      "cell_type": "code",
      "source": [
        "np.mean(df.loc[:, \"time_difference\"]), np.std(df.loc[:, \"time_difference\"])"
      ],
      "metadata": {
        "id": "xF0I22iN0qp7",
        "colab": {
          "base_uri": "https://localhost:8080/"
        },
        "outputId": "0446bf9d-4670-4a8f-e69e-18929c372a1c"
      },
      "execution_count": null,
      "outputs": [
        {
          "output_type": "execute_result",
          "data": {
            "text/plain": [
              "(7.224199288256224e-07, 2.3131145171466763e-05)"
            ]
          },
          "metadata": {},
          "execution_count": 95
        }
      ]
    },
    {
      "cell_type": "markdown",
      "source": [
        "## Hipothesis 3\n",
        "\n",
        "The linear model we computed from previously collected data is a good model for predicting the runtime of Code 2 for $p=1$ and given $n$.   \n",
        "Our model is $y(n)=-21.89+1.92n$. Let $t^{(1)}_1, t^{(2)}_1, t^{(3)}_1 \\ldots t^{(m)}_1$ be measurements for Code 2 with $n^{(1)}, n^{(2)}, n^{(3)} \\ldots n^{(m)}$ exams. Let $e^k = t^k - y(n^k)$ be the model error, $e \\sim N (\\mu_e,\\sigma_e^2)$:\n",
        "\n",
        "$$ H_0 : \\mu_e = 0 $$\n",
        "$$ H_1 : \\mu_e \\neq 0 $$"
      ],
      "metadata": {
        "id": "aIOGt-4gyy8q"
      }
    },
    {
      "cell_type": "markdown",
      "source": [
        "### Read Data"
      ],
      "metadata": {
        "id": "qfu3m8pzO607"
      }
    },
    {
      "cell_type": "code",
      "source": [
        "!gdown --id 1i4N6OlveOylCcglcwfFFYLnhB56Lei8w"
      ],
      "metadata": {
        "id": "FGzNMioaO608",
        "colab": {
          "base_uri": "https://localhost:8080/"
        },
        "outputId": "ef549ae6-02bc-4dda-eb81-2d644dd4e181"
      },
      "execution_count": null,
      "outputs": [
        {
          "output_type": "stream",
          "name": "stdout",
          "text": [
            "Downloading...\n",
            "From: https://drive.google.com/uc?id=1i4N6OlveOylCcglcwfFFYLnhB56Lei8w\n",
            "To: /content/measurements_h3.csv\n",
            "\r  0% 0.00/15.5k [00:00<?, ?B/s]\r100% 15.5k/15.5k [00:00<00:00, 4.81MB/s]\n"
          ]
        }
      ]
    },
    {
      "cell_type": "code",
      "source": [
        "df = read_data(\"measurements_h3.csv\")\n",
        "df.describe()"
      ],
      "metadata": {
        "id": "vMx5qvL2O608",
        "colab": {
          "base_uri": "https://localhost:8080/"
        },
        "outputId": "0616325c-dc7c-458a-8677-b552e318d851"
      },
      "execution_count": null,
      "outputs": [
        {
          "output_type": "execute_result",
          "data": {
            "text/html": [
              "\n",
              "  <div id=\"df-471104a6-3e26-486c-a34a-4106cc857d7b\">\n",
              "    <div class=\"colab-df-container\">\n",
              "      <div>\n",
              "<style scoped>\n",
              "    .dataframe tbody tr th:only-of-type {\n",
              "        vertical-align: middle;\n",
              "    }\n",
              "\n",
              "    .dataframe tbody tr th {\n",
              "        vertical-align: top;\n",
              "    }\n",
              "\n",
              "    .dataframe thead th {\n",
              "        text-align: right;\n",
              "    }\n",
              "</style>\n",
              "<table border=\"1\" class=\"dataframe\">\n",
              "  <thead>\n",
              "    <tr style=\"text-align: right;\">\n",
              "      <th></th>\n",
              "      <th>Exams</th>\n",
              "      <th>Percentage</th>\n",
              "      <th>Seed1</th>\n",
              "      <th>Seed2</th>\n",
              "      <th>Solution_code2</th>\n",
              "      <th>Time_code2</th>\n",
              "      <th>time</th>\n",
              "      <th>time_log</th>\n",
              "      <th>edges</th>\n",
              "    </tr>\n",
              "  </thead>\n",
              "  <tbody>\n",
              "    <tr>\n",
              "      <th>count</th>\n",
              "      <td>461.000000</td>\n",
              "      <td>461.0</td>\n",
              "      <td>461.000000</td>\n",
              "      <td>461.000000</td>\n",
              "      <td>461.000000</td>\n",
              "      <td>461.000000</td>\n",
              "      <td>461.000000</td>\n",
              "      <td>461.000000</td>\n",
              "      <td>461.000000</td>\n",
              "    </tr>\n",
              "    <tr>\n",
              "      <th>mean</th>\n",
              "      <td>7.427332</td>\n",
              "      <td>1.0</td>\n",
              "      <td>1374.895879</td>\n",
              "      <td>31287.264642</td>\n",
              "      <td>7.427332</td>\n",
              "      <td>3.348224</td>\n",
              "      <td>3.348224</td>\n",
              "      <td>-7.024764</td>\n",
              "      <td>29.501085</td>\n",
              "    </tr>\n",
              "    <tr>\n",
              "      <th>std</th>\n",
              "      <td>3.359870</td>\n",
              "      <td>0.0</td>\n",
              "      <td>28.308433</td>\n",
              "      <td>28.582060</td>\n",
              "      <td>3.359870</td>\n",
              "      <td>10.599612</td>\n",
              "      <td>10.599612</td>\n",
              "      <td>5.466021</td>\n",
              "      <td>23.941925</td>\n",
              "    </tr>\n",
              "    <tr>\n",
              "      <th>min</th>\n",
              "      <td>2.000000</td>\n",
              "      <td>1.0</td>\n",
              "      <td>1326.000000</td>\n",
              "      <td>31236.000000</td>\n",
              "      <td>2.000000</td>\n",
              "      <td>0.000001</td>\n",
              "      <td>0.000001</td>\n",
              "      <td>-13.815511</td>\n",
              "      <td>1.000000</td>\n",
              "    </tr>\n",
              "    <tr>\n",
              "      <th>25%</th>\n",
              "      <td>5.000000</td>\n",
              "      <td>1.0</td>\n",
              "      <td>1351.000000</td>\n",
              "      <td>31264.000000</td>\n",
              "      <td>5.000000</td>\n",
              "      <td>0.000008</td>\n",
              "      <td>0.000008</td>\n",
              "      <td>-11.736069</td>\n",
              "      <td>10.000000</td>\n",
              "    </tr>\n",
              "    <tr>\n",
              "      <th>50%</th>\n",
              "      <td>7.000000</td>\n",
              "      <td>1.0</td>\n",
              "      <td>1374.000000</td>\n",
              "      <td>31289.000000</td>\n",
              "      <td>7.000000</td>\n",
              "      <td>0.000131</td>\n",
              "      <td>0.000131</td>\n",
              "      <td>-8.940313</td>\n",
              "      <td>21.000000</td>\n",
              "    </tr>\n",
              "    <tr>\n",
              "      <th>75%</th>\n",
              "      <td>10.000000</td>\n",
              "      <td>1.0</td>\n",
              "      <td>1400.000000</td>\n",
              "      <td>31312.000000</td>\n",
              "      <td>10.000000</td>\n",
              "      <td>0.040108</td>\n",
              "      <td>0.040108</td>\n",
              "      <td>-3.216179</td>\n",
              "      <td>45.000000</td>\n",
              "    </tr>\n",
              "    <tr>\n",
              "      <th>max</th>\n",
              "      <td>13.000000</td>\n",
              "      <td>1.0</td>\n",
              "      <td>1425.000000</td>\n",
              "      <td>31335.000000</td>\n",
              "      <td>13.000000</td>\n",
              "      <td>40.222892</td>\n",
              "      <td>40.222892</td>\n",
              "      <td>3.694436</td>\n",
              "      <td>78.000000</td>\n",
              "    </tr>\n",
              "  </tbody>\n",
              "</table>\n",
              "</div>\n",
              "      <button class=\"colab-df-convert\" onclick=\"convertToInteractive('df-471104a6-3e26-486c-a34a-4106cc857d7b')\"\n",
              "              title=\"Convert this dataframe to an interactive table.\"\n",
              "              style=\"display:none;\">\n",
              "        \n",
              "  <svg xmlns=\"http://www.w3.org/2000/svg\" height=\"24px\"viewBox=\"0 0 24 24\"\n",
              "       width=\"24px\">\n",
              "    <path d=\"M0 0h24v24H0V0z\" fill=\"none\"/>\n",
              "    <path d=\"M18.56 5.44l.94 2.06.94-2.06 2.06-.94-2.06-.94-.94-2.06-.94 2.06-2.06.94zm-11 1L8.5 8.5l.94-2.06 2.06-.94-2.06-.94L8.5 2.5l-.94 2.06-2.06.94zm10 10l.94 2.06.94-2.06 2.06-.94-2.06-.94-.94-2.06-.94 2.06-2.06.94z\"/><path d=\"M17.41 7.96l-1.37-1.37c-.4-.4-.92-.59-1.43-.59-.52 0-1.04.2-1.43.59L10.3 9.45l-7.72 7.72c-.78.78-.78 2.05 0 2.83L4 21.41c.39.39.9.59 1.41.59.51 0 1.02-.2 1.41-.59l7.78-7.78 2.81-2.81c.8-.78.8-2.07 0-2.86zM5.41 20L4 18.59l7.72-7.72 1.47 1.35L5.41 20z\"/>\n",
              "  </svg>\n",
              "      </button>\n",
              "      \n",
              "  <style>\n",
              "    .colab-df-container {\n",
              "      display:flex;\n",
              "      flex-wrap:wrap;\n",
              "      gap: 12px;\n",
              "    }\n",
              "\n",
              "    .colab-df-convert {\n",
              "      background-color: #E8F0FE;\n",
              "      border: none;\n",
              "      border-radius: 50%;\n",
              "      cursor: pointer;\n",
              "      display: none;\n",
              "      fill: #1967D2;\n",
              "      height: 32px;\n",
              "      padding: 0 0 0 0;\n",
              "      width: 32px;\n",
              "    }\n",
              "\n",
              "    .colab-df-convert:hover {\n",
              "      background-color: #E2EBFA;\n",
              "      box-shadow: 0px 1px 2px rgba(60, 64, 67, 0.3), 0px 1px 3px 1px rgba(60, 64, 67, 0.15);\n",
              "      fill: #174EA6;\n",
              "    }\n",
              "\n",
              "    [theme=dark] .colab-df-convert {\n",
              "      background-color: #3B4455;\n",
              "      fill: #D2E3FC;\n",
              "    }\n",
              "\n",
              "    [theme=dark] .colab-df-convert:hover {\n",
              "      background-color: #434B5C;\n",
              "      box-shadow: 0px 1px 3px 1px rgba(0, 0, 0, 0.15);\n",
              "      filter: drop-shadow(0px 1px 2px rgba(0, 0, 0, 0.3));\n",
              "      fill: #FFFFFF;\n",
              "    }\n",
              "  </style>\n",
              "\n",
              "      <script>\n",
              "        const buttonEl =\n",
              "          document.querySelector('#df-471104a6-3e26-486c-a34a-4106cc857d7b button.colab-df-convert');\n",
              "        buttonEl.style.display =\n",
              "          google.colab.kernel.accessAllowed ? 'block' : 'none';\n",
              "\n",
              "        async function convertToInteractive(key) {\n",
              "          const element = document.querySelector('#df-471104a6-3e26-486c-a34a-4106cc857d7b');\n",
              "          const dataTable =\n",
              "            await google.colab.kernel.invokeFunction('convertToInteractive',\n",
              "                                                     [key], {});\n",
              "          if (!dataTable) return;\n",
              "\n",
              "          const docLinkHtml = 'Like what you see? Visit the ' +\n",
              "            '<a target=\"_blank\" href=https://colab.research.google.com/notebooks/data_table.ipynb>data table notebook</a>'\n",
              "            + ' to learn more about interactive tables.';\n",
              "          element.innerHTML = '';\n",
              "          dataTable['output_type'] = 'display_data';\n",
              "          await google.colab.output.renderOutput(dataTable, element);\n",
              "          const docLink = document.createElement('div');\n",
              "          docLink.innerHTML = docLinkHtml;\n",
              "          element.appendChild(docLink);\n",
              "        }\n",
              "      </script>\n",
              "    </div>\n",
              "  </div>\n",
              "  "
            ],
            "text/plain": [
              "            Exams  Percentage        Seed1  ...        time    time_log       edges\n",
              "count  461.000000       461.0   461.000000  ...  461.000000  461.000000  461.000000\n",
              "mean     7.427332         1.0  1374.895879  ...    3.348224   -7.024764   29.501085\n",
              "std      3.359870         0.0    28.308433  ...   10.599612    5.466021   23.941925\n",
              "min      2.000000         1.0  1326.000000  ...    0.000001  -13.815511    1.000000\n",
              "25%      5.000000         1.0  1351.000000  ...    0.000008  -11.736069   10.000000\n",
              "50%      7.000000         1.0  1374.000000  ...    0.000131   -8.940313   21.000000\n",
              "75%     10.000000         1.0  1400.000000  ...    0.040108   -3.216179   45.000000\n",
              "max     13.000000         1.0  1425.000000  ...   40.222892    3.694436   78.000000\n",
              "\n",
              "[8 rows x 9 columns]"
            ]
          },
          "metadata": {},
          "execution_count": 30
        }
      ]
    },
    {
      "cell_type": "markdown",
      "source": [
        "### Test"
      ],
      "metadata": {
        "id": "gAUs1-WGO609"
      }
    },
    {
      "cell_type": "code",
      "source": [
        "df"
      ],
      "metadata": {
        "id": "UJ3tg-8eyzsz",
        "colab": {
          "base_uri": "https://localhost:8080/",
          "height": 424
        },
        "outputId": "07288809-f7bd-4988-beaa-c25bfa9bfc90"
      },
      "execution_count": null,
      "outputs": [
        {
          "output_type": "execute_result",
          "data": {
            "text/html": [
              "\n",
              "  <div id=\"df-ae0297f0-c960-45f7-bc84-d3e8ef3a3502\">\n",
              "    <div class=\"colab-df-container\">\n",
              "      <div>\n",
              "<style scoped>\n",
              "    .dataframe tbody tr th:only-of-type {\n",
              "        vertical-align: middle;\n",
              "    }\n",
              "\n",
              "    .dataframe tbody tr th {\n",
              "        vertical-align: top;\n",
              "    }\n",
              "\n",
              "    .dataframe thead th {\n",
              "        text-align: right;\n",
              "    }\n",
              "</style>\n",
              "<table border=\"1\" class=\"dataframe\">\n",
              "  <thead>\n",
              "    <tr style=\"text-align: right;\">\n",
              "      <th></th>\n",
              "      <th>Exams</th>\n",
              "      <th>Percentage</th>\n",
              "      <th>Seed1</th>\n",
              "      <th>Seed2</th>\n",
              "      <th>Solution_code2</th>\n",
              "      <th>Time_code2</th>\n",
              "      <th>code</th>\n",
              "      <th>time</th>\n",
              "      <th>time_log</th>\n",
              "      <th>edges</th>\n",
              "    </tr>\n",
              "  </thead>\n",
              "  <tbody>\n",
              "    <tr>\n",
              "      <th>0</th>\n",
              "      <td>3</td>\n",
              "      <td>1.0</td>\n",
              "      <td>1382</td>\n",
              "      <td>31292</td>\n",
              "      <td>3</td>\n",
              "      <td>0.000003</td>\n",
              "      <td>Code2</td>\n",
              "      <td>0.000003</td>\n",
              "      <td>-12.716898</td>\n",
              "      <td>3.0</td>\n",
              "    </tr>\n",
              "    <tr>\n",
              "      <th>2</th>\n",
              "      <td>13</td>\n",
              "      <td>1.0</td>\n",
              "      <td>1387</td>\n",
              "      <td>31320</td>\n",
              "      <td>13</td>\n",
              "      <td>40.174277</td>\n",
              "      <td>Code2</td>\n",
              "      <td>40.174277</td>\n",
              "      <td>3.693227</td>\n",
              "      <td>78.0</td>\n",
              "    </tr>\n",
              "    <tr>\n",
              "      <th>3</th>\n",
              "      <td>8</td>\n",
              "      <td>1.0</td>\n",
              "      <td>1337</td>\n",
              "      <td>31285</td>\n",
              "      <td>8</td>\n",
              "      <td>0.000742</td>\n",
              "      <td>Code2</td>\n",
              "      <td>0.000742</td>\n",
              "      <td>-7.206161</td>\n",
              "      <td>28.0</td>\n",
              "    </tr>\n",
              "    <tr>\n",
              "      <th>4</th>\n",
              "      <td>5</td>\n",
              "      <td>1.0</td>\n",
              "      <td>1421</td>\n",
              "      <td>31246</td>\n",
              "      <td>5</td>\n",
              "      <td>0.000008</td>\n",
              "      <td>Code2</td>\n",
              "      <td>0.000008</td>\n",
              "      <td>-11.736069</td>\n",
              "      <td>10.0</td>\n",
              "    </tr>\n",
              "    <tr>\n",
              "      <th>5</th>\n",
              "      <td>13</td>\n",
              "      <td>1.0</td>\n",
              "      <td>1335</td>\n",
              "      <td>31320</td>\n",
              "      <td>13</td>\n",
              "      <td>39.288327</td>\n",
              "      <td>Code2</td>\n",
              "      <td>39.288327</td>\n",
              "      <td>3.670927</td>\n",
              "      <td>78.0</td>\n",
              "    </tr>\n",
              "    <tr>\n",
              "      <th>...</th>\n",
              "      <td>...</td>\n",
              "      <td>...</td>\n",
              "      <td>...</td>\n",
              "      <td>...</td>\n",
              "      <td>...</td>\n",
              "      <td>...</td>\n",
              "      <td>...</td>\n",
              "      <td>...</td>\n",
              "      <td>...</td>\n",
              "      <td>...</td>\n",
              "    </tr>\n",
              "    <tr>\n",
              "      <th>493</th>\n",
              "      <td>7</td>\n",
              "      <td>1.0</td>\n",
              "      <td>1360</td>\n",
              "      <td>31328</td>\n",
              "      <td>7</td>\n",
              "      <td>0.000123</td>\n",
              "      <td>Code2</td>\n",
              "      <td>0.000123</td>\n",
              "      <td>-9.003326</td>\n",
              "      <td>21.0</td>\n",
              "    </tr>\n",
              "    <tr>\n",
              "      <th>494</th>\n",
              "      <td>10</td>\n",
              "      <td>1.0</td>\n",
              "      <td>1355</td>\n",
              "      <td>31258</td>\n",
              "      <td>10</td>\n",
              "      <td>0.039658</td>\n",
              "      <td>Code2</td>\n",
              "      <td>0.039658</td>\n",
              "      <td>-3.227463</td>\n",
              "      <td>45.0</td>\n",
              "    </tr>\n",
              "    <tr>\n",
              "      <th>495</th>\n",
              "      <td>5</td>\n",
              "      <td>1.0</td>\n",
              "      <td>1370</td>\n",
              "      <td>31328</td>\n",
              "      <td>5</td>\n",
              "      <td>0.000008</td>\n",
              "      <td>Code2</td>\n",
              "      <td>0.000008</td>\n",
              "      <td>-11.736069</td>\n",
              "      <td>10.0</td>\n",
              "    </tr>\n",
              "    <tr>\n",
              "      <th>496</th>\n",
              "      <td>13</td>\n",
              "      <td>1.0</td>\n",
              "      <td>1378</td>\n",
              "      <td>31243</td>\n",
              "      <td>13</td>\n",
              "      <td>39.816393</td>\n",
              "      <td>Code2</td>\n",
              "      <td>39.816393</td>\n",
              "      <td>3.684279</td>\n",
              "      <td>78.0</td>\n",
              "    </tr>\n",
              "    <tr>\n",
              "      <th>499</th>\n",
              "      <td>6</td>\n",
              "      <td>1.0</td>\n",
              "      <td>1406</td>\n",
              "      <td>31240</td>\n",
              "      <td>6</td>\n",
              "      <td>0.000026</td>\n",
              "      <td>Code2</td>\n",
              "      <td>0.000026</td>\n",
              "      <td>-10.557414</td>\n",
              "      <td>15.0</td>\n",
              "    </tr>\n",
              "  </tbody>\n",
              "</table>\n",
              "<p>461 rows × 10 columns</p>\n",
              "</div>\n",
              "      <button class=\"colab-df-convert\" onclick=\"convertToInteractive('df-ae0297f0-c960-45f7-bc84-d3e8ef3a3502')\"\n",
              "              title=\"Convert this dataframe to an interactive table.\"\n",
              "              style=\"display:none;\">\n",
              "        \n",
              "  <svg xmlns=\"http://www.w3.org/2000/svg\" height=\"24px\"viewBox=\"0 0 24 24\"\n",
              "       width=\"24px\">\n",
              "    <path d=\"M0 0h24v24H0V0z\" fill=\"none\"/>\n",
              "    <path d=\"M18.56 5.44l.94 2.06.94-2.06 2.06-.94-2.06-.94-.94-2.06-.94 2.06-2.06.94zm-11 1L8.5 8.5l.94-2.06 2.06-.94-2.06-.94L8.5 2.5l-.94 2.06-2.06.94zm10 10l.94 2.06.94-2.06 2.06-.94-2.06-.94-.94-2.06-.94 2.06-2.06.94z\"/><path d=\"M17.41 7.96l-1.37-1.37c-.4-.4-.92-.59-1.43-.59-.52 0-1.04.2-1.43.59L10.3 9.45l-7.72 7.72c-.78.78-.78 2.05 0 2.83L4 21.41c.39.39.9.59 1.41.59.51 0 1.02-.2 1.41-.59l7.78-7.78 2.81-2.81c.8-.78.8-2.07 0-2.86zM5.41 20L4 18.59l7.72-7.72 1.47 1.35L5.41 20z\"/>\n",
              "  </svg>\n",
              "      </button>\n",
              "      \n",
              "  <style>\n",
              "    .colab-df-container {\n",
              "      display:flex;\n",
              "      flex-wrap:wrap;\n",
              "      gap: 12px;\n",
              "    }\n",
              "\n",
              "    .colab-df-convert {\n",
              "      background-color: #E8F0FE;\n",
              "      border: none;\n",
              "      border-radius: 50%;\n",
              "      cursor: pointer;\n",
              "      display: none;\n",
              "      fill: #1967D2;\n",
              "      height: 32px;\n",
              "      padding: 0 0 0 0;\n",
              "      width: 32px;\n",
              "    }\n",
              "\n",
              "    .colab-df-convert:hover {\n",
              "      background-color: #E2EBFA;\n",
              "      box-shadow: 0px 1px 2px rgba(60, 64, 67, 0.3), 0px 1px 3px 1px rgba(60, 64, 67, 0.15);\n",
              "      fill: #174EA6;\n",
              "    }\n",
              "\n",
              "    [theme=dark] .colab-df-convert {\n",
              "      background-color: #3B4455;\n",
              "      fill: #D2E3FC;\n",
              "    }\n",
              "\n",
              "    [theme=dark] .colab-df-convert:hover {\n",
              "      background-color: #434B5C;\n",
              "      box-shadow: 0px 1px 3px 1px rgba(0, 0, 0, 0.15);\n",
              "      filter: drop-shadow(0px 1px 2px rgba(0, 0, 0, 0.3));\n",
              "      fill: #FFFFFF;\n",
              "    }\n",
              "  </style>\n",
              "\n",
              "      <script>\n",
              "        const buttonEl =\n",
              "          document.querySelector('#df-ae0297f0-c960-45f7-bc84-d3e8ef3a3502 button.colab-df-convert');\n",
              "        buttonEl.style.display =\n",
              "          google.colab.kernel.accessAllowed ? 'block' : 'none';\n",
              "\n",
              "        async function convertToInteractive(key) {\n",
              "          const element = document.querySelector('#df-ae0297f0-c960-45f7-bc84-d3e8ef3a3502');\n",
              "          const dataTable =\n",
              "            await google.colab.kernel.invokeFunction('convertToInteractive',\n",
              "                                                     [key], {});\n",
              "          if (!dataTable) return;\n",
              "\n",
              "          const docLinkHtml = 'Like what you see? Visit the ' +\n",
              "            '<a target=\"_blank\" href=https://colab.research.google.com/notebooks/data_table.ipynb>data table notebook</a>'\n",
              "            + ' to learn more about interactive tables.';\n",
              "          element.innerHTML = '';\n",
              "          dataTable['output_type'] = 'display_data';\n",
              "          await google.colab.output.renderOutput(dataTable, element);\n",
              "          const docLink = document.createElement('div');\n",
              "          docLink.innerHTML = docLinkHtml;\n",
              "          element.appendChild(docLink);\n",
              "        }\n",
              "      </script>\n",
              "    </div>\n",
              "  </div>\n",
              "  "
            ],
            "text/plain": [
              "     Exams  Percentage  Seed1  Seed2  ...   code       time   time_log  edges\n",
              "0        3         1.0   1382  31292  ...  Code2   0.000003 -12.716898    3.0\n",
              "2       13         1.0   1387  31320  ...  Code2  40.174277   3.693227   78.0\n",
              "3        8         1.0   1337  31285  ...  Code2   0.000742  -7.206161   28.0\n",
              "4        5         1.0   1421  31246  ...  Code2   0.000008 -11.736069   10.0\n",
              "5       13         1.0   1335  31320  ...  Code2  39.288327   3.670927   78.0\n",
              "..     ...         ...    ...    ...  ...    ...        ...        ...    ...\n",
              "493      7         1.0   1360  31328  ...  Code2   0.000123  -9.003326   21.0\n",
              "494     10         1.0   1355  31258  ...  Code2   0.039658  -3.227463   45.0\n",
              "495      5         1.0   1370  31328  ...  Code2   0.000008 -11.736069   10.0\n",
              "496     13         1.0   1378  31243  ...  Code2  39.816393   3.684279   78.0\n",
              "499      6         1.0   1406  31240  ...  Code2   0.000026 -10.557414   15.0\n",
              "\n",
              "[461 rows x 10 columns]"
            ]
          },
          "metadata": {},
          "execution_count": 31
        }
      ]
    },
    {
      "cell_type": "code",
      "source": [
        "df.loc[:, \"y(n)\"] = (-21.898 + 1.92*df[\"Exams\"])\n",
        "df.loc[:, \"e\"] = df[\"time_log\"] - df[\"y(n)\"]"
      ],
      "metadata": {
        "id": "FxhOaWlGJvCF"
      },
      "execution_count": null,
      "outputs": []
    },
    {
      "cell_type": "code",
      "source": [
        "df.loc[(df[\"Percentage\"] == 1.00) & (df[\"code\"] == \"Code2\"), \"e\"]"
      ],
      "metadata": {
        "colab": {
          "base_uri": "https://localhost:8080/"
        },
        "id": "--SKqVcNNdXj",
        "outputId": "9a9d4676-b3cd-4746-adb9-ec63af19ba33"
      },
      "execution_count": null,
      "outputs": [
        {
          "output_type": "execute_result",
          "data": {
            "text/plain": [
              "0      3.421102\n",
              "2      0.631227\n",
              "3     -0.668161\n",
              "4      0.561931\n",
              "5      0.608927\n",
              "         ...   \n",
              "493   -0.545326\n",
              "494   -0.529463\n",
              "495    0.561931\n",
              "496    0.622279\n",
              "499   -0.179414\n",
              "Name: e, Length: 461, dtype: float64"
            ]
          },
          "metadata": {},
          "execution_count": 33
        }
      ]
    },
    {
      "cell_type": "code",
      "source": [
        "en = df.loc[(df[\"Percentage\"] == 1.00) & (df[\"code\"] == \"Code2\") & (df[\"Exams\"] <= 14), [\"e\", \"Exams\"]]\n",
        "e = en[\"e\"]\n",
        "n = en[\"Exams\"]\n",
        "en"
      ],
      "metadata": {
        "colab": {
          "base_uri": "https://localhost:8080/",
          "height": 424
        },
        "id": "tplkEmDRNg2J",
        "outputId": "31a592d0-71b0-492e-a06b-cf6c1e75b151"
      },
      "execution_count": null,
      "outputs": [
        {
          "output_type": "execute_result",
          "data": {
            "text/html": [
              "\n",
              "  <div id=\"df-c779deb0-ac07-4489-98f9-ffba0861469e\">\n",
              "    <div class=\"colab-df-container\">\n",
              "      <div>\n",
              "<style scoped>\n",
              "    .dataframe tbody tr th:only-of-type {\n",
              "        vertical-align: middle;\n",
              "    }\n",
              "\n",
              "    .dataframe tbody tr th {\n",
              "        vertical-align: top;\n",
              "    }\n",
              "\n",
              "    .dataframe thead th {\n",
              "        text-align: right;\n",
              "    }\n",
              "</style>\n",
              "<table border=\"1\" class=\"dataframe\">\n",
              "  <thead>\n",
              "    <tr style=\"text-align: right;\">\n",
              "      <th></th>\n",
              "      <th>e</th>\n",
              "      <th>Exams</th>\n",
              "    </tr>\n",
              "  </thead>\n",
              "  <tbody>\n",
              "    <tr>\n",
              "      <th>0</th>\n",
              "      <td>3.421102</td>\n",
              "      <td>3</td>\n",
              "    </tr>\n",
              "    <tr>\n",
              "      <th>2</th>\n",
              "      <td>0.631227</td>\n",
              "      <td>13</td>\n",
              "    </tr>\n",
              "    <tr>\n",
              "      <th>3</th>\n",
              "      <td>-0.668161</td>\n",
              "      <td>8</td>\n",
              "    </tr>\n",
              "    <tr>\n",
              "      <th>4</th>\n",
              "      <td>0.561931</td>\n",
              "      <td>5</td>\n",
              "    </tr>\n",
              "    <tr>\n",
              "      <th>5</th>\n",
              "      <td>0.608927</td>\n",
              "      <td>13</td>\n",
              "    </tr>\n",
              "    <tr>\n",
              "      <th>...</th>\n",
              "      <td>...</td>\n",
              "      <td>...</td>\n",
              "    </tr>\n",
              "    <tr>\n",
              "      <th>493</th>\n",
              "      <td>-0.545326</td>\n",
              "      <td>7</td>\n",
              "    </tr>\n",
              "    <tr>\n",
              "      <th>494</th>\n",
              "      <td>-0.529463</td>\n",
              "      <td>10</td>\n",
              "    </tr>\n",
              "    <tr>\n",
              "      <th>495</th>\n",
              "      <td>0.561931</td>\n",
              "      <td>5</td>\n",
              "    </tr>\n",
              "    <tr>\n",
              "      <th>496</th>\n",
              "      <td>0.622279</td>\n",
              "      <td>13</td>\n",
              "    </tr>\n",
              "    <tr>\n",
              "      <th>499</th>\n",
              "      <td>-0.179414</td>\n",
              "      <td>6</td>\n",
              "    </tr>\n",
              "  </tbody>\n",
              "</table>\n",
              "<p>461 rows × 2 columns</p>\n",
              "</div>\n",
              "      <button class=\"colab-df-convert\" onclick=\"convertToInteractive('df-c779deb0-ac07-4489-98f9-ffba0861469e')\"\n",
              "              title=\"Convert this dataframe to an interactive table.\"\n",
              "              style=\"display:none;\">\n",
              "        \n",
              "  <svg xmlns=\"http://www.w3.org/2000/svg\" height=\"24px\"viewBox=\"0 0 24 24\"\n",
              "       width=\"24px\">\n",
              "    <path d=\"M0 0h24v24H0V0z\" fill=\"none\"/>\n",
              "    <path d=\"M18.56 5.44l.94 2.06.94-2.06 2.06-.94-2.06-.94-.94-2.06-.94 2.06-2.06.94zm-11 1L8.5 8.5l.94-2.06 2.06-.94-2.06-.94L8.5 2.5l-.94 2.06-2.06.94zm10 10l.94 2.06.94-2.06 2.06-.94-2.06-.94-.94-2.06-.94 2.06-2.06.94z\"/><path d=\"M17.41 7.96l-1.37-1.37c-.4-.4-.92-.59-1.43-.59-.52 0-1.04.2-1.43.59L10.3 9.45l-7.72 7.72c-.78.78-.78 2.05 0 2.83L4 21.41c.39.39.9.59 1.41.59.51 0 1.02-.2 1.41-.59l7.78-7.78 2.81-2.81c.8-.78.8-2.07 0-2.86zM5.41 20L4 18.59l7.72-7.72 1.47 1.35L5.41 20z\"/>\n",
              "  </svg>\n",
              "      </button>\n",
              "      \n",
              "  <style>\n",
              "    .colab-df-container {\n",
              "      display:flex;\n",
              "      flex-wrap:wrap;\n",
              "      gap: 12px;\n",
              "    }\n",
              "\n",
              "    .colab-df-convert {\n",
              "      background-color: #E8F0FE;\n",
              "      border: none;\n",
              "      border-radius: 50%;\n",
              "      cursor: pointer;\n",
              "      display: none;\n",
              "      fill: #1967D2;\n",
              "      height: 32px;\n",
              "      padding: 0 0 0 0;\n",
              "      width: 32px;\n",
              "    }\n",
              "\n",
              "    .colab-df-convert:hover {\n",
              "      background-color: #E2EBFA;\n",
              "      box-shadow: 0px 1px 2px rgba(60, 64, 67, 0.3), 0px 1px 3px 1px rgba(60, 64, 67, 0.15);\n",
              "      fill: #174EA6;\n",
              "    }\n",
              "\n",
              "    [theme=dark] .colab-df-convert {\n",
              "      background-color: #3B4455;\n",
              "      fill: #D2E3FC;\n",
              "    }\n",
              "\n",
              "    [theme=dark] .colab-df-convert:hover {\n",
              "      background-color: #434B5C;\n",
              "      box-shadow: 0px 1px 3px 1px rgba(0, 0, 0, 0.15);\n",
              "      filter: drop-shadow(0px 1px 2px rgba(0, 0, 0, 0.3));\n",
              "      fill: #FFFFFF;\n",
              "    }\n",
              "  </style>\n",
              "\n",
              "      <script>\n",
              "        const buttonEl =\n",
              "          document.querySelector('#df-c779deb0-ac07-4489-98f9-ffba0861469e button.colab-df-convert');\n",
              "        buttonEl.style.display =\n",
              "          google.colab.kernel.accessAllowed ? 'block' : 'none';\n",
              "\n",
              "        async function convertToInteractive(key) {\n",
              "          const element = document.querySelector('#df-c779deb0-ac07-4489-98f9-ffba0861469e');\n",
              "          const dataTable =\n",
              "            await google.colab.kernel.invokeFunction('convertToInteractive',\n",
              "                                                     [key], {});\n",
              "          if (!dataTable) return;\n",
              "\n",
              "          const docLinkHtml = 'Like what you see? Visit the ' +\n",
              "            '<a target=\"_blank\" href=https://colab.research.google.com/notebooks/data_table.ipynb>data table notebook</a>'\n",
              "            + ' to learn more about interactive tables.';\n",
              "          element.innerHTML = '';\n",
              "          dataTable['output_type'] = 'display_data';\n",
              "          await google.colab.output.renderOutput(dataTable, element);\n",
              "          const docLink = document.createElement('div');\n",
              "          docLink.innerHTML = docLinkHtml;\n",
              "          element.appendChild(docLink);\n",
              "        }\n",
              "      </script>\n",
              "    </div>\n",
              "  </div>\n",
              "  "
            ],
            "text/plain": [
              "            e  Exams\n",
              "0    3.421102      3\n",
              "2    0.631227     13\n",
              "3   -0.668161      8\n",
              "4    0.561931      5\n",
              "5    0.608927     13\n",
              "..        ...    ...\n",
              "493 -0.545326      7\n",
              "494 -0.529463     10\n",
              "495  0.561931      5\n",
              "496  0.622279     13\n",
              "499 -0.179414      6\n",
              "\n",
              "[461 rows x 2 columns]"
            ]
          },
          "metadata": {},
          "execution_count": 34
        }
      ]
    },
    {
      "cell_type": "code",
      "source": [
        "plt.scatter(n, e)"
      ],
      "metadata": {
        "colab": {
          "base_uri": "https://localhost:8080/",
          "height": 284
        },
        "id": "DyQvgBPSQNdg",
        "outputId": "4d2b4583-0a57-4e55-a7bb-b17b950e90f8"
      },
      "execution_count": null,
      "outputs": [
        {
          "output_type": "execute_result",
          "data": {
            "text/plain": [
              "<matplotlib.collections.PathCollection at 0x7f300024f750>"
            ]
          },
          "metadata": {},
          "execution_count": 35
        },
        {
          "output_type": "display_data",
          "data": {
            "image/png": "[encoded data removed]",
            "text/plain": [
              "<Figure size 432x288 with 1 Axes>"
            ]
          },
          "metadata": {
            "needs_background": "light"
          }
        }
      ]
    },
    {
      "cell_type": "code",
      "source": [
        "stats.ttest_1samp(e, popmean=0)"
      ],
      "metadata": {
        "colab": {
          "base_uri": "https://localhost:8080/"
        },
        "id": "whj_b--bPtVu",
        "outputId": "1a397b95-6c3d-431a-ba90-0cfc877c7df3"
      },
      "execution_count": null,
      "outputs": [
        {
          "output_type": "execute_result",
          "data": {
            "text/plain": [
              "Ttest_1sampResult(statistic=8.083623839302767, pvalue=5.6053817698591166e-15)"
            ]
          },
          "metadata": {},
          "execution_count": 36
        }
      ]
    },
    {
      "cell_type": "markdown",
      "source": [
        "### Result\n",
        "\n",
        "Em qualquer um dos niveis de significância $0.1$, $0.05$, $0.01$ podemos rejeitar a hipótese nula. No entanto, se permitirmos um nível de significância de 0.15, isso já não se verifica e portanto, para este nível de significância, não podemos dizer que o nosso modelo linear não é um bom modelo para prever o tempo de execução para o Code2 para $p = 1.0$\n",
        "\n"
      ],
      "metadata": {
        "id": "0jm2MKLMS13E"
      }
    },
    {
      "cell_type": "code",
      "source": [
        ""
      ],
      "metadata": {
        "id": "ptLbdoDUOKpy"
      },
      "execution_count": null,
      "outputs": []
    }
  ]
}